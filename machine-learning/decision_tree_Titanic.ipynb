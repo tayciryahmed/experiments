{
 "cells": [
  {
   "cell_type": "code",
   "execution_count": 1,
   "metadata": {
    "collapsed": true
   },
   "outputs": [],
   "source": [
    "# d'après le challenge Kaggle : https://www.kaggle.com/c/titanic"
   ]
  },
  {
   "cell_type": "markdown",
   "metadata": {},
   "source": [
    "# Decision Tree : Entropie"
   ]
  },
  {
   "cell_type": "code",
   "execution_count": 1,
   "metadata": {
    "collapsed": false
   },
   "outputs": [],
   "source": [
    "import numpy as np # import la librairie numpy (calcul scientifique)\n",
    "import matplotlib.pyplot as plt # librairie pour afficher les graphs.\n",
    "%matplotlib inline  \n",
    "import pandas as pd #for manipulating data "
   ]
  },
  {
   "cell_type": "code",
   "execution_count": 2,
   "metadata": {
    "collapsed": true
   },
   "outputs": [],
   "source": [
    "# Charge les donnees utile pour le TP\n",
    "def get_titanic_data():\n",
    "     \n",
    "    np.random.seed(42)\n",
    "    # get titanic & test csv files as a DataFrame\n",
    "    titanic_df = pd.read_csv(\"train_titanic.csv\", dtype={\"Age\": np.float64}, )\n",
    "\n",
    "    # drop unnecessary columns, these columns won't be useful in analysis and prediction\n",
    "    titanic_df = titanic_df.drop(['PassengerId', 'Name', 'Ticket', 'SibSp', 'Parch' , 'Fare', 'Cabin'], axis=1)\n",
    "\n",
    "\n",
    "    # only in titanic_df, fill the two missing values with the most occurred value, which is \"S\".\n",
    "    titanic_df[\"Embarked\"] = titanic_df[\"Embarked\"].fillna(\"S\")\n",
    "\n",
    "    # Age: values are missing, we replace them\n",
    "    # get average, std, and number of NaN values in titanic_df\n",
    "    average_age_titanic   = titanic_df[\"Age\"].mean()\n",
    "    std_age_titanic       = titanic_df[\"Age\"].std()\n",
    "    count_nan_age_titanic = titanic_df[\"Age\"].isnull().sum()\n",
    "    # generate random numbers between (mean - std) & (mean + std)\n",
    "    rand_1 = np.random.randint(average_age_titanic - std_age_titanic, average_age_titanic + std_age_titanic, size = count_nan_age_titanic)\n",
    "    titanic_df['Age'].dropna().astype(int)\n",
    "    # fill NaN values in Age column with random values generated   \n",
    "    titanic_df[\"Age\"] = titanic_df[\"Age\"].fillna(30)\n",
    "    # convert from float to int\n",
    "    titanic_df['Age'] = titanic_df['Age'].astype(int)\n",
    "    \n",
    "    # y nous dit qui a survécu\n",
    "    y = titanic_df['Survived']\n",
    "    # X contient les données utiles pour la classification\n",
    "    X = titanic_df.drop( [\"Survived\"], axis = 1)\n",
    "    print(\"X: données:\")\n",
    "    print(X.head())\n",
    "   \n",
    "    return X,y"
   ]
  },
  {
   "cell_type": "code",
   "execution_count": 33,
   "metadata": {
    "collapsed": false
   },
   "outputs": [
    {
     "name": "stdout",
     "output_type": "stream",
     "text": [
      "X data :\n",
      " \n",
      "   Pclass     Sex  Age Embarked\n",
      "0       3    male   22        S\n",
      "1       1  female   38        C\n",
      "2       3  female   26        S\n",
      "3       1  female   35        S\n",
      "4       3    male   35        S\n",
      "\n",
      "\n",
      " y label : \n",
      "\n",
      "0    0\n",
      "1    1\n",
      "2    1\n",
      "3    1\n",
      "4    0\n",
      "Name: Survived, dtype: int64\n"
     ]
    }
   ],
   "source": [
    "X, y = get_titanic_data()\n",
    "\"\"\"\n",
    "On accede aux données en utilisant les noms des features comme des attributs de X:\n",
    "X.Pclass, X.Sex, X.age, X.Embarked ou de manière équivalente X[\"Pclass\"], X[\"Sex\"], etc...\n",
    "On peut les transformer en listes ou vecteurs:\n",
    "\"\"\"\n",
    "print(\"\\n\")\n",
    "print(np.array(X[\"Age\"])[:5])\n",
    "print(np.array(X[\"Sex\"])[:5])\n",
    "print(np.array(y)[:5])\n",
    "\"\"\"\n",
    "On peut aussi s'en servir pour extraire facilement des données:\n",
    "\"\"\"\n",
    "print(np.array((X['Age'] == 38)&(X['Sex'] == 'female'))[:5]) \n",
    "print(np.array((X['Age'] < 30)&(y == 1))[:5]) "
   ]
  },
  {
   "cell_type": "markdown",
   "metadata": {},
   "source": [
    "### Probabilité de survivre en sachant le genre, le port d'embarquement ou la classe du billet :"
   ]
  },
  {
   "cell_type": "code",
   "execution_count": 58,
   "metadata": {
    "collapsed": false
   },
   "outputs": [
    {
     "name": "stdout",
     "output_type": "stream",
     "text": [
      "\n",
      "\n",
      "Conditional probability P(Survivre| Pclass = 1) = 0.63\n",
      "Conditional probability P(Survivre| Pclass = 2) = 0.47\n",
      "Conditional probability P(Survivre| Pclass = 3) = 0.24\n",
      "\n",
      "\n",
      "Conditional probability P(Survivre| Embarked = Q) = 0.39\n",
      "Conditional probability P(Survivre| Embarked = S) = 0.34\n",
      "Conditional probability P(Survivre| Embarked = C) = 0.55\n",
      "\n",
      "\n",
      "Conditional probability P(Survivre| Sex = male) = 0.19\n",
      "Conditional probability P(Survivre| Sex = female) = 0.74\n",
      "\n",
      "\n",
      "Conditional probability P(Survivre| 0 < Age < 10 ) = 0.56\n",
      "Conditional probability P(Survivre| 10 < Age < 20 ) = 0.41\n",
      "Conditional probability P(Survivre| 20 < Age < 30 ) = 0.36\n",
      "Conditional probability P(Survivre| 30 < Age < 40 ) = 0.45\n",
      "Conditional probability P(Survivre| 40 < Age < 50 ) = 0.38\n",
      "Conditional probability P(Survivre| 50 < Age < 60 ) = 0.39\n",
      "Conditional probability P(Survivre| 60 < Age < 70 ) = 0.27\n",
      "Conditional probability P(Survivre| 70 < Age < 80 ) = 0.00\n"
     ]
    }
   ],
   "source": [
    "from __future__ import division\n",
    "\n",
    "Attributes = ['Pclass', 'Embarked', 'Sex']\n",
    "for Att in Attributes:\n",
    "    print(\"\\n\")\n",
    "    for att in set(X[Att]):\n",
    "        nb_att = np.sum(X[Att] == att)\n",
    "        nb_att_survived = np.sum((X[Att] == att) & (y == 1))\n",
    "        condi_prob_att_survived = nb_att_survived / nb_att\n",
    "        print(\"Conditional probability P(Survivre| %s = %s) = %.2f\" % (Att, att, condi_prob_att_survived))\n",
    "        \n",
    "Attribute = 'Age'\n",
    "print(\"\\n\")\n",
    "for i in range(8):\n",
    "    nb_att = np.sum((X[Attribute] > i*10) & (X[Attribute] < (i+1)*10))\n",
    "    nb_att_survived = np.sum((X[Attribute] > i*10) & (X[Attribute] < (i+1)*10) & (y == 1))\n",
    "    condi_prob_att_survived = nb_att_survived / nb_att\n",
    "    print(\"Conditional probability P(Survivre| %i < %s < %i ) = %.2f\" % (i*10, Attribute, (i+1)*10, condi_prob_att_survived))"
   ]
  },
  {
   "cell_type": "markdown",
   "metadata": {
    "collapsed": true
   },
   "source": [
    "### Entropie: "
   ]
  },
  {
   "cell_type": "code",
   "execution_count": 47,
   "metadata": {
    "collapsed": false
   },
   "outputs": [
    {
     "data": {
      "text/plain": [
       "<matplotlib.text.Text at 0x7fea029e2350>"
      ]
     },
     "execution_count": 47,
     "metadata": {},
     "output_type": "execute_result"
    },
    {
     "data": {
      "image/png": "[encoded data removed]",
      "text/plain": [
       "<matplotlib.figure.Figure at 0x7fea02993f10>"
      ]
     },
     "metadata": {},
     "output_type": "display_data"
    }
   ],
   "source": [
    "\"\"\"\n",
    "I = -p * log(p) - (1-p) * log(1- p)\n",
    "avec p = Proba(survivre | genre = femme) \n",
    "Rappel : un faible I est plus informatif qu'un I élevé\n",
    "\"\"\"\n",
    "\n",
    "def entropy(p):\n",
    "    if p==0 or p==1:\n",
    "        return 0\n",
    "    else:\n",
    "        return - p*np.log(p) - (1-p)*np.log(1-p)\n",
    "    \n",
    "list_p = np.arange(0.00,1.01,0.01)\n",
    "plt.plot(list_p, [entropy(p) for p in list_p])\n",
    "\n",
    "plt.title('Entropie')\n",
    "plt.xlabel('p')\n",
    "plt.ylabel('Incertitude')"
   ]
  },
  {
   "cell_type": "code",
   "execution_count": 70,
   "metadata": {
    "collapsed": false
   },
   "outputs": [
    {
     "name": "stdout",
     "output_type": "stream",
     "text": [
      "\n",
      "\n",
      "Entropie de (Pclass = 1) = 0.66\n",
      "Entropie de (Pclass = 2) = 0.69\n",
      "Entropie de (Pclass = 3) = 0.55\n",
      "\n",
      "\n",
      "Entropie de (Pclass) = 0.61\n",
      "Gain d'information de (Pclass) = 0.06\n",
      "\n",
      "\n",
      "Entropie de (Embarked = Q) = 0.67\n",
      "Entropie de (Embarked = S) = 0.64\n",
      "Entropie de (Embarked = C) = 0.69\n",
      "\n",
      "\n",
      "Entropie de (Embarked) = 0.65\n",
      "Gain d'information de (Embarked) = 0.01\n",
      "\n",
      "\n",
      "Entropie de (Sex = male) = 0.48\n",
      "Entropie de (Sex = female) = 0.57\n",
      "\n",
      "\n",
      "Entropie de (Sex) = 0.52\n",
      "Gain d'information de (Sex) = 0.15\n",
      "\n",
      "\n",
      "Entropie de (0 < Age < 10) = 0.69\n",
      "Entropie de (10 < Age < 20) = 0.68\n",
      "Entropie de (20 < Age < 30) = 0.65\n",
      "Entropie de (30 < Age < 40) = 0.69\n",
      "Entropie de (40 < Age < 50) = 0.66\n",
      "Entropie de (50 < Age < 60) = 0.67\n",
      "Entropie de (60 < Age < 70) = 0.58\n",
      "Entropie de (70 < Age < 80) = 0.00\n",
      "\n",
      "\n",
      "Entropie de (Age) = 0.47\n",
      "Gain d'information de (Age) = 0.20\n"
     ]
    },
    {
     "data": {
      "text/plain": [
       "\"Mecaniquement, le gain d'information sera plus eleve si la feature peut prendre un grand nombre de valeurs differentes.\\nCes gains seront cependant moins susceptibles de se generaliser: ici, on gagnera plus d'information si l'on choisit des\\nclasses d'ages plus inclusives, mais cela ne nous aidera pas lors d'un test.\""
      ]
     },
     "execution_count": 70,
     "metadata": {},
     "output_type": "execute_result"
    }
   ],
   "source": [
    "p_survie = np.sum(y==1) / len(X)\n",
    "\n",
    "Attributes = ['Pclass', 'Embarked', 'Sex']\n",
    "for Att in Attributes:\n",
    "    print(\"\\n\")\n",
    "    probs = []\n",
    "    for att in set(X[Att]):\n",
    "        nb_att = np.sum(X[Att] == att)\n",
    "        nb_att_survived = np.sum((X[Att] == att) & (y == 1))\n",
    "        condi_prob_att_survived = nb_att_survived / nb_att\n",
    "        prob_classe = nb_att / len(X[Att])\n",
    "        probs.append((condi_prob_att_survived, prob_classe))\n",
    "        print(\"Entropie de (%s = %s) = %.2f\" % (Att, att, entropy(condi_prob_att_survived)))\n",
    "    print(\"\\n\")\n",
    "    print(\"Entropie de (%s) = %.2f\" % (Att, sum([j*entropy(i) for (i, j) in probs])))\n",
    "    print(\"Gain d'information de (%s) = %.2f\" % (Att, entropy(p_survie) - sum([j*entropy(i) for (i, j) in probs])))\n",
    "    \n",
    "Attribute = 'Age'\n",
    "print(\"\\n\")\n",
    "probs = []\n",
    "for i in range(8):\n",
    "    nb_att = np.sum((X[Attribute] > i*10) & (X[Attribute] < (i+1)*10))\n",
    "    nb_att_survived = np.sum((X[Attribute] > i*10) & (X[Attribute] < (i+1)*10) & (y == 1))\n",
    "    condi_prob_att_survived = nb_att_survived / nb_att\n",
    "    prob_classe = nb_att / len(X[Attribute])\n",
    "    probs.append((condi_prob_att_survived, prob_classe))\n",
    "    print(\"Entropie de (%i < %s < %i) = %.2f\" % (i*10, Attribute, (i+1)*10, entropy(condi_prob_att_survived)))\n",
    "print(\"\\n\")\n",
    "print(\"Entropie de (%s) = %.2f\" % (Attribute, sum([j*entropy(i) for (i, j) in probs])))\n",
    "print(\"Gain d'information de (%s) = %.2f\" % (Attribute, entropy(p_survie) - sum([j*entropy(i) for (i, j) in probs])))\n",
    "\n",
    "\n",
    "\"\"\"Mecaniquement, le gain d'information sera plus eleve si la feature peut prendre un grand nombre de valeurs differentes.\n",
    "Ces gains seront cependant moins susceptibles de se generaliser: ici, on gagnera plus d'information si l'on choisit des\n",
    "classes d'ages plus inclusives, mais cela ne nous aidera pas lors d'un test.\"\"\""
   ]
  },
  {
   "cell_type": "code",
   "execution_count": 82,
   "metadata": {
    "collapsed": false
   },
   "outputs": [
    {
     "name": "stdout",
     "output_type": "stream",
     "text": [
      "(891,)\n",
      "(891,)\n",
      "(891,)\n",
      "(891, 3)\n",
      "[ 0.3612132   0.45716048  0.18162632]\n"
     ]
    }
   ],
   "source": [
    "from sklearn import tree\n",
    "\n",
    "DT = tree.DecisionTreeClassifier()\n",
    "print np.array(X[\"Age\"]).shape\n",
    "print np.array([i=='male' for i in list(X[\"Sex\"])]).shape\n",
    "print np.array(X[\"Pclass\"]).shape\n",
    "X_array = np.stack([np.array(X[\"Age\"]),np.array([i=='male' for i in list(X[\"Sex\"])]),np.array(X[\"Pclass\"])], 1)\n",
    "print X_array.shape\n",
    "DT.fit(X_array,y)\n",
    "\n",
    "print DT.feature_importances_"
   ]
  }
 ],
 "metadata": {
  "anaconda-cloud": {},
  "kernelspec": {
   "display_name": "Python 2",
   "language": "python",
   "name": "python2"
  },
  "language_info": {
   "codemirror_mode": {
    "name": "ipython",
    "version": 2
   },
   "file_extension": ".py",
   "mimetype": "text/x-python",
   "name": "python",
   "nbconvert_exporter": "python",
   "pygments_lexer": "ipython2",
   "version": "2.7.12"
  }
 },
 "nbformat": 4,
 "nbformat_minor": 1
}
