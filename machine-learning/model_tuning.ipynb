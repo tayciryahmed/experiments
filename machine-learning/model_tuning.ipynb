{
 "cells": [
  {
   "cell_type": "markdown",
   "metadata": {},
   "source": [
    "#  Model tuning and hyperparameter optimization\n",
    "\n",
    "<i>Balázs Kégl (CNRS / PS-CDS) and Alex Gramfort (Inria)</i>\n",
    "\n",
    "## Introduction\n",
    "Virtually all learning models come with a set of parameters that should be tuned. To distinguish them from the parameters of the models set during training (learned parameters like neural weigths, tree cuts, or ensemble coefficients), we call them <i>hyperparameters</i>. Typical examples are the number of iterations and the tree depth in random forests, or the <code>C</code> or <code>gamma</code> of a support vector classifier. Scikit-learn has default values for all these parameters, but there is no guarantee that any of the classifiers perform optimally (or even close to optimally) using these default parameters. Worse: the optimal parameters vary depending on the data set, so tuning them is the task of the analyst, not the task of the provider of the library.\n",
    "\n",
    "Hyperparameters come in all shapes and types. Some of them are crucial to be tuned (like <code>n_estimators</code> in ensemble methods), the default value of some others works fine most of the time (say, <code>min_samples_split</code> of a random forest). Scikit-learn also has auxiliary parameters that have no effects on the model (such as <code>verbose</code>), so knowing which parameters to tune requires understanding a little bit what the particular model is about. Most of the hyperparameters have typical ranges, although they can depend of course on the characteristics of the data set. There are even so called <i>conditional</i> hyperparameters whose <i>existence</i> depend on the value of some other hyperparameters: for example, when you add a new layer to a neural network, suddenly you have 3-5 new hyperparameters to tune.\n",
    "\n",
    "Important hyperparameters can usually be interpreted as complexity parameters of the learned function. Sometimes the link is easy to see: an ensemble with a large number of deep trees have more degrees of freedom than a small ensemble of small trees. Sometimes the link between hyperparameters and complexity is more indirect, and understanding it requires some basic notion of <i>regularization</i>. One general notion that helps to understand the behavior of the learning algorithms with respect to their hyperparameters is <i>overfitting</i> and <i>underfitting</i> (this is why it is important to understand whether complexity increases or decreases as the hyperparameter grows). Let us call the model that we could obtain if we knew the distribution (or had infinite data) the <i>ideal</i> model. The goal of learning is to get as close to this model as possible, using only a finite training set. We may have two problems\n",
    "<ol>\n",
    "<li>\n",
    "Underfitting occurs when our model is not flexible enough to pick up the details of the ideal function, so even with infinite data we could not get close to the ideal function. The difference between the error of the ideal function and the error of the best function we could pick from our model class (parametrized by the hyperparameters) is the <i>approximation</i> error. Underfitting means that the approximation error is larger than optimal. Increasing the complexity of the model class decreases the approximation error (independently of the data set).\n",
    "<li>\n",
    "Overfitting occurs when our model is too flexible so it learns the training data \"by heart\" and does not generalize well to unseen test data. The difference between the error of the function (learned on the data set) and the error of the best function we could pick from our model class (parametrized by the hyperparameters) is the <i>estimation</i> error. Overfitting means that estimation error is larger than optimal. Increasing the complexity of the model class (while keeping the data set fixed) increases the estimation error.\n",
    "</ol>\n",
    "Note the crucial difference between the two notions: the level of underfitting is independent of the data set; it only depends on the data distribution and the function set (parametrized by the hyperparameters), whereas the level of overfitting, of course, depends on the data set. Here are some general rules that could guide you in this landscape.\n",
    "<ol>\n",
    "<li> Overfitting increases as the model complexity grows.\n",
    "<li> Overfitting increases as the data complexity (for example, the number of features) grows.\n",
    "<li> Overfitting decreases as the data size grows.\n",
    "</ol>\n",
    "\n",
    "If we could compute the data distribution or had access to an infinite data set we could determine the estimation and approximation errors and set the model complexity to minimize their sum. Of course, this is impossible so these notions are not constructive (but can help you to understand the underlying phenomena). In practice, we <i>estimate</i> the <i>generalization</i> error (the sum of the approximation and estimation errors) on a held out (validation) set. The pragmatics of hyperparameter optimization are thus relatively simple: find the hyperparameters that minimize the validation error. The practical difficulties are the following:\n",
    "<ol>\n",
    "<li> Our estimate has a variance: it is based on a finite validation set. Optimizing a \"noisy\" function can be tricky. Using cross validation schemes makes this even worse: since training and test sets overlap, complex correlation structures are introduced into the error estimates.\n",
    "<li> Evaluating the validation error at a vector of hyperparameter values requires training a model which may be slow. \n",
    "<li> The number of hyperparameter combinations increases exponentially with the number of hyperparameters.\n",
    "</ol> \n",
    "\n",
    "The first step of hyperparameter tuning is usually trial and error. Try some combinations and look at how the error behaves. Once you have a \"feeling\" about what range should be explored and the sensitivity of the error to the hyperparameters, you can do a grid search (using either <code>GridSearchCV</code> from scikit learn, or by coding it). In this notebook we coded a simple grid search so you understand how it works. Once the number of hyperparameters is large (say, larger than 2) grid search will become increasingly time consuming. The main inefficency is a result of it not being intelligent: it will exhaustively look at <i>all</i> combinations, even those that are \"trivially\" bad. \n",
    "\n",
    "The main principle to improve on grid search is smoothness in the hyperparameter space: we assume that models with similar hyperparameters are not very different. This allows sophisticated automatic methods to direct the search toward promising regions while also keeping exploring unexplored regions. Most of these methods are based on <a href=\"http://en.wikipedia.org/wiki/Bayesian_optimization\">Bayesian optimization</a>. We will work with the <a href=\"https://github.com/hyperopt/hyperopt/wiki/FMin\">hyperopt</a> package. It can be installed with:\n",
    "\n",
    "<code>pip install hyperopt</code>"
   ]
  },
  {
   "cell_type": "code",
   "execution_count": 1,
   "metadata": {
    "collapsed": true
   },
   "outputs": [],
   "source": [
    "# !pip install hyperopt"
   ]
  },
  {
   "cell_type": "markdown",
   "metadata": {},
   "source": [
    "## Import some libraries"
   ]
  },
  {
   "cell_type": "code",
   "execution_count": 26,
   "metadata": {
    "collapsed": true
   },
   "outputs": [],
   "source": [
    "%matplotlib inline\n",
    "import numpy as np\n",
    "import pandas as pd\n",
    "import matplotlib.pyplot as plt\n",
    "pd.set_option('display.max_columns', None)\n",
    "import seaborn"
   ]
  },
  {
   "cell_type": "markdown",
   "metadata": {},
   "source": [
    "## Fetch the data and load it in pandas, and convert it into numpy\n",
    "We can use any data set here. By the end of this section, two numpy arrays, <code>X</code> and <code>y</code> shoud be created."
   ]
  },
  {
   "cell_type": "code",
   "execution_count": 27,
   "metadata": {
    "collapsed": false
   },
   "outputs": [
    {
     "data": {
      "text/html": [
       "<div>\n",
       "<style scoped>\n",
       "    .dataframe tbody tr th:only-of-type {\n",
       "        vertical-align: middle;\n",
       "    }\n",
       "\n",
       "    .dataframe tbody tr th {\n",
       "        vertical-align: top;\n",
       "    }\n",
       "\n",
       "    .dataframe thead th {\n",
       "        text-align: right;\n",
       "    }\n",
       "</style>\n",
       "<table border=\"1\" class=\"dataframe\">\n",
       "  <thead>\n",
       "    <tr style=\"text-align: right;\">\n",
       "      <th></th>\n",
       "      <th>patch_id</th>\n",
       "      <th>star_id_b</th>\n",
       "      <th>star_id_r</th>\n",
       "      <th>magnitude_b</th>\n",
       "      <th>magnitude_r</th>\n",
       "      <th>asc_d</th>\n",
       "      <th>asc_m</th>\n",
       "      <th>asc_s</th>\n",
       "      <th>dec_d</th>\n",
       "      <th>dec_m</th>\n",
       "      <th>dec_s</th>\n",
       "      <th>period</th>\n",
       "      <th>frequency</th>\n",
       "      <th>num_points_good_b</th>\n",
       "      <th>num_points_good_r</th>\n",
       "      <th>asym_b</th>\n",
       "      <th>asym_r</th>\n",
       "      <th>log_p_not_variable</th>\n",
       "      <th>sigma_flux_b</th>\n",
       "      <th>sigma_flux_r</th>\n",
       "      <th>type</th>\n",
       "      <th>quality</th>\n",
       "      <th>div_period</th>\n",
       "      <th>real_period</th>\n",
       "    </tr>\n",
       "  </thead>\n",
       "  <tbody>\n",
       "    <tr>\n",
       "      <th>54_3198</th>\n",
       "      <td>54.0</td>\n",
       "      <td>3198.0</td>\n",
       "      <td>3327.0</td>\n",
       "      <td>19.0780</td>\n",
       "      <td>18.1298</td>\n",
       "      <td>5.0</td>\n",
       "      <td>48.0</td>\n",
       "      <td>19.58</td>\n",
       "      <td>-70.0</td>\n",
       "      <td>36.0</td>\n",
       "      <td>16.84</td>\n",
       "      <td>0.610837</td>\n",
       "      <td>1.637100</td>\n",
       "      <td>123.0</td>\n",
       "      <td>122.0</td>\n",
       "      <td>2.61765</td>\n",
       "      <td>0.794118</td>\n",
       "      <td>-2.76059</td>\n",
       "      <td>41.4272</td>\n",
       "      <td>88.0977</td>\n",
       "      <td>3.0</td>\n",
       "      <td>2.0</td>\n",
       "      <td>1.0</td>\n",
       "      <td>0.610837</td>\n",
       "    </tr>\n",
       "    <tr>\n",
       "      <th>578_2223</th>\n",
       "      <td>578.0</td>\n",
       "      <td>2223.0</td>\n",
       "      <td>2598.0</td>\n",
       "      <td>19.0282</td>\n",
       "      <td>18.8067</td>\n",
       "      <td>5.0</td>\n",
       "      <td>5.0</td>\n",
       "      <td>52.85</td>\n",
       "      <td>-69.0</td>\n",
       "      <td>8.0</td>\n",
       "      <td>40.12</td>\n",
       "      <td>1.913020</td>\n",
       "      <td>0.522734</td>\n",
       "      <td>119.0</td>\n",
       "      <td>120.0</td>\n",
       "      <td>1.12500</td>\n",
       "      <td>0.600000</td>\n",
       "      <td>-2.23733</td>\n",
       "      <td>39.5553</td>\n",
       "      <td>45.3581</td>\n",
       "      <td>3.0</td>\n",
       "      <td>2.0</td>\n",
       "      <td>6.0</td>\n",
       "      <td>0.318837</td>\n",
       "    </tr>\n",
       "    <tr>\n",
       "      <th>242_3046</th>\n",
       "      <td>242.0</td>\n",
       "      <td>3046.0</td>\n",
       "      <td>3274.0</td>\n",
       "      <td>17.8534</td>\n",
       "      <td>15.6034</td>\n",
       "      <td>5.0</td>\n",
       "      <td>31.0</td>\n",
       "      <td>26.46</td>\n",
       "      <td>-69.0</td>\n",
       "      <td>14.0</td>\n",
       "      <td>32.21</td>\n",
       "      <td>0.996323</td>\n",
       "      <td>1.003690</td>\n",
       "      <td>102.0</td>\n",
       "      <td>97.0</td>\n",
       "      <td>1.37209</td>\n",
       "      <td>1.365850</td>\n",
       "      <td>-3.58045</td>\n",
       "      <td>118.8270</td>\n",
       "      <td>939.3540</td>\n",
       "      <td>3.0</td>\n",
       "      <td>1.0</td>\n",
       "      <td>1.0</td>\n",
       "      <td>0.996323</td>\n",
       "    </tr>\n",
       "  </tbody>\n",
       "</table>\n",
       "</div>"
      ],
      "text/plain": [
       "          patch_id  star_id_b  star_id_r  magnitude_b  magnitude_r  asc_d  \\\n",
       "54_3198       54.0     3198.0     3327.0      19.0780      18.1298    5.0   \n",
       "578_2223     578.0     2223.0     2598.0      19.0282      18.8067    5.0   \n",
       "242_3046     242.0     3046.0     3274.0      17.8534      15.6034    5.0   \n",
       "\n",
       "          asc_m  asc_s  dec_d  dec_m  dec_s    period  frequency  \\\n",
       "54_3198    48.0  19.58  -70.0   36.0  16.84  0.610837   1.637100   \n",
       "578_2223    5.0  52.85  -69.0    8.0  40.12  1.913020   0.522734   \n",
       "242_3046   31.0  26.46  -69.0   14.0  32.21  0.996323   1.003690   \n",
       "\n",
       "          num_points_good_b  num_points_good_r   asym_b    asym_r  \\\n",
       "54_3198               123.0              122.0  2.61765  0.794118   \n",
       "578_2223              119.0              120.0  1.12500  0.600000   \n",
       "242_3046              102.0               97.0  1.37209  1.365850   \n",
       "\n",
       "          log_p_not_variable  sigma_flux_b  sigma_flux_r  type  quality  \\\n",
       "54_3198             -2.76059       41.4272       88.0977   3.0      2.0   \n",
       "578_2223            -2.23733       39.5553       45.3581   3.0      2.0   \n",
       "242_3046            -3.58045      118.8270      939.3540   3.0      1.0   \n",
       "\n",
       "          div_period  real_period  \n",
       "54_3198          1.0     0.610837  \n",
       "578_2223         6.0     0.318837  \n",
       "242_3046         1.0     0.996323  "
      ]
     },
     "execution_count": 27,
     "metadata": {},
     "output_type": "execute_result"
    }
   ],
   "source": [
    "data = pd.read_csv(\"train.csv\", index_col=0)\n",
    "data['real_period'] = data['period'] / data['div_period']\n",
    "data.head(3)"
   ]
  },
  {
   "cell_type": "code",
   "execution_count": 28,
   "metadata": {
    "collapsed": true
   },
   "outputs": [],
   "source": [
    "X = data[['magnitude_b', 'magnitude_r', 'real_period']].values\n",
    "y = data['type'].values"
   ]
  },
  {
   "cell_type": "code",
   "execution_count": 29,
   "metadata": {
    "collapsed": false
   },
   "outputs": [
    {
     "data": {
      "text/plain": [
       "((3641, 3), (3641,), dtype('float64'), dtype('float64'))"
      ]
     },
     "execution_count": 29,
     "metadata": {},
     "output_type": "execute_result"
    }
   ],
   "source": [
    "X.shape, y.shape, X.dtype, y.dtype"
   ]
  },
  {
   "cell_type": "markdown",
   "metadata": {},
   "source": [
    "We're good !"
   ]
  },
  {
   "cell_type": "markdown",
   "metadata": {},
   "source": [
    "## Train a classifier\n",
    "\n",
    "without worrying too much about hyperparameters"
   ]
  },
  {
   "cell_type": "code",
   "execution_count": 30,
   "metadata": {
    "collapsed": true
   },
   "outputs": [],
   "source": [
    "from sklearn.model_selection import train_test_split\n",
    "\n",
    "X_train, X_test, y_train, y_test = train_test_split(\n",
    "    X, y, test_size=0.5, random_state=0)"
   ]
  },
  {
   "cell_type": "code",
   "execution_count": 31,
   "metadata": {
    "collapsed": false
   },
   "outputs": [
    {
     "name": "stdout",
     "output_type": "stream",
     "text": [
      "Accuracy: 0.9154 +/-0.0136\n"
     ]
    }
   ],
   "source": [
    "from sklearn.ensemble import RandomForestClassifier\n",
    "from sklearn.model_selection import cross_val_score, KFold\n",
    "\n",
    "clf = RandomForestClassifier(n_estimators=100, max_depth=8)\n",
    "cv = KFold(n_splits=5, random_state=42)\n",
    "scores = cross_val_score(clf, X_train, y_train, cv=cv, scoring='accuracy')\n",
    "print(\"Accuracy: {:.4f} +/-{:.4f}\".format(np.mean(scores), np.std(scores)))"
   ]
  },
  {
   "cell_type": "markdown",
   "metadata": {},
   "source": [
    "### Train a classifier using a grid of hyperparameters"
   ]
  },
  {
   "cell_type": "code",
   "execution_count": 8,
   "metadata": {
    "collapsed": false
   },
   "outputs": [
    {
     "name": "stdout",
     "output_type": "stream",
     "text": [
      "2\n",
      "3\n",
      "5\n",
      "10\n",
      "20\n",
      "30\n",
      "50\n",
      "100\n",
      "200\n",
      "500\n"
     ]
    }
   ],
   "source": [
    "n_estimators_list = [2, 3, 5, 10, 20, 30, 50, 100, 200, 500]\n",
    "max_depth_list = [1, 2, 3, 5, 7, 10, 15, 20, 30]\n",
    "accuracies = {}\n",
    "accuracy_stds = {}\n",
    "\n",
    "for n_estimators in n_estimators_list:\n",
    "    print(n_estimators)\n",
    "    for max_depth in max_depth_list:\n",
    "        clf = RandomForestClassifier(n_estimators=n_estimators, max_depth=max_depth, n_jobs=1)\n",
    "        scores = cross_val_score(clf, X_train, y_train, cv=cv, scoring='accuracy', n_jobs=3)\n",
    "        accuracies[(n_estimators, max_depth)] = np.mean(scores)\n",
    "        accuracy_stds[(n_estimators, max_depth)] = np.std(scores)"
   ]
  },
  {
   "cell_type": "code",
   "execution_count": 9,
   "metadata": {
    "collapsed": false
   },
   "outputs": [
    {
     "data": {
      "text/plain": [
       "{(2, 1): 0.74120879120879124,\n",
       " (2, 2): 0.81923076923076921,\n",
       " (2, 3): 0.87417582417582407,\n",
       " (2, 5): 0.87857142857142845,\n",
       " (2, 7): 0.87032967032967046,\n",
       " (2, 10): 0.84230769230769231,\n",
       " (2, 15): 0.84175824175824177,\n",
       " (2, 20): 0.84285714285714286,\n",
       " (2, 30): 0.84285714285714286,\n",
       " (3, 1): 0.77527472527472518,\n",
       " (3, 2): 0.85109890109890107,\n",
       " (3, 3): 0.86373626373626367,\n",
       " (3, 5): 0.89890109890109893,\n",
       " (3, 7): 0.88736263736263721,\n",
       " (3, 10): 0.89230769230769236,\n",
       " (3, 15): 0.88681318681318688,\n",
       " (3, 20): 0.89230769230769236,\n",
       " (3, 30): 0.89230769230769236,\n",
       " (5, 1): 0.76208791208791204,\n",
       " (5, 2): 0.85109890109890107,\n",
       " (5, 3): 0.88406593406593414,\n",
       " (5, 5): 0.90274725274725276,\n",
       " (5, 7): 0.90714285714285714,\n",
       " (5, 10): 0.90879120879120878,\n",
       " (5, 15): 0.9054945054945055,\n",
       " (5, 20): 0.90879120879120878,\n",
       " (5, 30): 0.90879120879120878,\n",
       " (10, 1): 0.74450549450549453,\n",
       " (10, 2): 0.85329670329670326,\n",
       " (10, 3): 0.89340659340659345,\n",
       " (10, 5): 0.9054945054945055,\n",
       " (10, 7): 0.90384615384615385,\n",
       " (10, 10): 0.90989010989010988,\n",
       " (10, 15): 0.90494505494505495,\n",
       " (10, 20): 0.90494505494505495,\n",
       " (10, 30): 0.90494505494505495,\n",
       " (20, 1): 0.77142857142857135,\n",
       " (20, 2): 0.84780219780219779,\n",
       " (20, 3): 0.88901098901098907,\n",
       " (20, 5): 0.90714285714285714,\n",
       " (20, 7): 0.91373626373626371,\n",
       " (20, 10): 0.9148351648351648,\n",
       " (20, 15): 0.91208791208791207,\n",
       " (20, 20): 0.91098901098901097,\n",
       " (20, 30): 0.91098901098901097,\n",
       " (30, 1): 0.76593406593406588,\n",
       " (30, 2): 0.85109890109890107,\n",
       " (30, 3): 0.89120879120879126,\n",
       " (30, 5): 0.9054945054945055,\n",
       " (30, 7): 0.91318681318681316,\n",
       " (30, 10): 0.91208791208791207,\n",
       " (30, 15): 0.91373626373626371,\n",
       " (30, 20): 0.91153846153846152,\n",
       " (30, 30): 0.91153846153846152,\n",
       " (50, 1): 0.76758241758241752,\n",
       " (50, 2): 0.84120879120879111,\n",
       " (50, 3): 0.8824175824175825,\n",
       " (50, 5): 0.9054945054945055,\n",
       " (50, 7): 0.91318681318681316,\n",
       " (50, 10): 0.91428571428571426,\n",
       " (50, 15): 0.91373626373626371,\n",
       " (50, 20): 0.91648351648351645,\n",
       " (50, 30): 0.91648351648351645,\n",
       " (100, 1): 0.76373626373626369,\n",
       " (100, 2): 0.83846153846153848,\n",
       " (100, 3): 0.88901098901098907,\n",
       " (100, 5): 0.90824175824175823,\n",
       " (100, 7): 0.91428571428571426,\n",
       " (100, 10): 0.91648351648351645,\n",
       " (100, 15): 0.91703296703296699,\n",
       " (100, 20): 0.91758241758241754,\n",
       " (100, 30): 0.91758241758241754,\n",
       " (200, 1): 0.76483516483516478,\n",
       " (200, 2): 0.84065934065934067,\n",
       " (200, 3): 0.893956043956044,\n",
       " (200, 5): 0.91098901098901097,\n",
       " (200, 7): 0.91428571428571426,\n",
       " (200, 10): 0.91978021978021973,\n",
       " (200, 15): 0.91813186813186809,\n",
       " (200, 20): 0.91813186813186809,\n",
       " (200, 30): 0.91813186813186809,\n",
       " (500, 1): 0.76593406593406588,\n",
       " (500, 2): 0.83956043956043958,\n",
       " (500, 3): 0.8928571428571429,\n",
       " (500, 5): 0.91043956043956042,\n",
       " (500, 7): 0.91648351648351645,\n",
       " (500, 10): 0.91868131868131864,\n",
       " (500, 15): 0.91758241758241754,\n",
       " (500, 20): 0.91648351648351645,\n",
       " (500, 30): 0.91703296703296699}"
      ]
     },
     "execution_count": 9,
     "metadata": {},
     "output_type": "execute_result"
    }
   ],
   "source": [
    "accuracies"
   ]
  },
  {
   "cell_type": "code",
   "execution_count": 10,
   "metadata": {
    "collapsed": false
   },
   "outputs": [
    {
     "data": {
      "text/plain": [
       "0.91978021978021973"
      ]
     },
     "execution_count": 10,
     "metadata": {},
     "output_type": "execute_result"
    }
   ],
   "source": [
    "np.max(list(accuracies.values()))"
   ]
  },
  {
   "cell_type": "markdown",
   "metadata": {},
   "source": [
    "Now let's do it using scikit-learn <a href=\"http://scikit-learn.org/stable/modules/generated/sklearn.model_selection.GridSearchCV.html\">GridSearchCV</a> object."
   ]
  },
  {
   "cell_type": "code",
   "execution_count": 11,
   "metadata": {
    "collapsed": false
   },
   "outputs": [
    {
     "data": {
      "text/plain": [
       "GridSearchCV(cv=KFold(n_splits=5, random_state=42, shuffle=False),\n",
       "       error_score='raise',\n",
       "       estimator=RandomForestClassifier(bootstrap=True, class_weight=None, criterion='gini',\n",
       "            max_depth=None, max_features='auto', max_leaf_nodes=None,\n",
       "            min_impurity_split=1e-07, min_samples_leaf=1,\n",
       "            min_samples_split=2, min_weight_fraction_leaf=0.0,\n",
       "            n_estimators=10, n_jobs=1, oob_score=False, random_state=42,\n",
       "            verbose=0, warm_start=False),\n",
       "       fit_params={}, iid=True, n_jobs=3,\n",
       "       param_grid={'n_estimators': [2, 3, 5, 10, 20, 30, 50, 100, 200, 500], 'max_depth': [1, 2, 3, 5, 7, 10, 15, 20, 30]},\n",
       "       pre_dispatch='2*n_jobs', refit=True, return_train_score=True,\n",
       "       scoring='accuracy', verbose=0)"
      ]
     },
     "execution_count": 11,
     "metadata": {},
     "output_type": "execute_result"
    }
   ],
   "source": [
    "from sklearn.model_selection import GridSearchCV\n",
    "\n",
    "tuned_parameters = {'n_estimators': n_estimators_list, 'max_depth': max_depth_list}\n",
    "clf = RandomForestClassifier(random_state=42)\n",
    "\n",
    "gs = GridSearchCV(clf, tuned_parameters, cv=cv, scoring='accuracy', n_jobs=3)\n",
    "gs.fit(X, y)"
   ]
  },
  {
   "cell_type": "code",
   "execution_count": 12,
   "metadata": {
    "collapsed": false
   },
   "outputs": [
    {
     "name": "stdout",
     "output_type": "stream",
     "text": [
      "Best parameters set found on development set:\n",
      "{'n_estimators': 100, 'max_depth': 20}\n",
      "()\n",
      "Grid scores on training set:\n",
      "()\n",
      "0.776 (+/-0.018) for {'n_estimators': 2, 'max_depth': 1}\n",
      "0.768 (+/-0.020) for {'n_estimators': 3, 'max_depth': 1}\n",
      "0.810 (+/-0.018) for {'n_estimators': 5, 'max_depth': 1}\n",
      "0.774 (+/-0.019) for {'n_estimators': 10, 'max_depth': 1}\n",
      "0.775 (+/-0.022) for {'n_estimators': 20, 'max_depth': 1}\n",
      "0.769 (+/-0.012) for {'n_estimators': 30, 'max_depth': 1}\n",
      "0.770 (+/-0.015) for {'n_estimators': 50, 'max_depth': 1}\n",
      "0.770 (+/-0.012) for {'n_estimators': 100, 'max_depth': 1}\n",
      "0.771 (+/-0.011) for {'n_estimators': 200, 'max_depth': 1}\n",
      "0.771 (+/-0.011) for {'n_estimators': 500, 'max_depth': 1}\n",
      "0.885 (+/-0.020) for {'n_estimators': 2, 'max_depth': 2}\n",
      "0.880 (+/-0.020) for {'n_estimators': 3, 'max_depth': 2}\n",
      "0.873 (+/-0.015) for {'n_estimators': 5, 'max_depth': 2}\n",
      "0.829 (+/-0.046) for {'n_estimators': 10, 'max_depth': 2}\n",
      "0.807 (+/-0.035) for {'n_estimators': 20, 'max_depth': 2}\n",
      "0.806 (+/-0.046) for {'n_estimators': 30, 'max_depth': 2}\n",
      "0.827 (+/-0.042) for {'n_estimators': 50, 'max_depth': 2}\n",
      "0.837 (+/-0.019) for {'n_estimators': 100, 'max_depth': 2}\n",
      "0.846 (+/-0.017) for {'n_estimators': 200, 'max_depth': 2}\n",
      "0.845 (+/-0.016) for {'n_estimators': 500, 'max_depth': 2}\n",
      "0.883 (+/-0.025) for {'n_estimators': 2, 'max_depth': 3}\n",
      "0.872 (+/-0.046) for {'n_estimators': 3, 'max_depth': 3}\n",
      "0.884 (+/-0.020) for {'n_estimators': 5, 'max_depth': 3}\n",
      "0.883 (+/-0.020) for {'n_estimators': 10, 'max_depth': 3}\n",
      "0.887 (+/-0.025) for {'n_estimators': 20, 'max_depth': 3}\n",
      "0.886 (+/-0.027) for {'n_estimators': 30, 'max_depth': 3}\n",
      "0.884 (+/-0.025) for {'n_estimators': 50, 'max_depth': 3}\n",
      "0.886 (+/-0.024) for {'n_estimators': 100, 'max_depth': 3}\n",
      "0.888 (+/-0.027) for {'n_estimators': 200, 'max_depth': 3}\n",
      "0.887 (+/-0.026) for {'n_estimators': 500, 'max_depth': 3}\n",
      "0.889 (+/-0.024) for {'n_estimators': 2, 'max_depth': 5}\n",
      "0.898 (+/-0.016) for {'n_estimators': 3, 'max_depth': 5}\n",
      "0.905 (+/-0.015) for {'n_estimators': 5, 'max_depth': 5}\n",
      "0.904 (+/-0.018) for {'n_estimators': 10, 'max_depth': 5}\n",
      "0.905 (+/-0.019) for {'n_estimators': 20, 'max_depth': 5}\n",
      "0.908 (+/-0.025) for {'n_estimators': 30, 'max_depth': 5}\n",
      "0.906 (+/-0.021) for {'n_estimators': 50, 'max_depth': 5}\n",
      "0.907 (+/-0.020) for {'n_estimators': 100, 'max_depth': 5}\n",
      "0.908 (+/-0.021) for {'n_estimators': 200, 'max_depth': 5}\n",
      "0.909 (+/-0.022) for {'n_estimators': 500, 'max_depth': 5}\n",
      "0.890 (+/-0.018) for {'n_estimators': 2, 'max_depth': 7}\n",
      "0.903 (+/-0.031) for {'n_estimators': 3, 'max_depth': 7}\n",
      "0.906 (+/-0.029) for {'n_estimators': 5, 'max_depth': 7}\n",
      "0.913 (+/-0.030) for {'n_estimators': 10, 'max_depth': 7}\n",
      "0.915 (+/-0.028) for {'n_estimators': 20, 'max_depth': 7}\n",
      "0.915 (+/-0.028) for {'n_estimators': 30, 'max_depth': 7}\n",
      "0.915 (+/-0.026) for {'n_estimators': 50, 'max_depth': 7}\n",
      "0.913 (+/-0.025) for {'n_estimators': 100, 'max_depth': 7}\n",
      "0.915 (+/-0.025) for {'n_estimators': 200, 'max_depth': 7}\n",
      "0.914 (+/-0.023) for {'n_estimators': 500, 'max_depth': 7}\n",
      "0.870 (+/-0.025) for {'n_estimators': 2, 'max_depth': 10}\n",
      "0.901 (+/-0.022) for {'n_estimators': 3, 'max_depth': 10}\n",
      "0.908 (+/-0.021) for {'n_estimators': 5, 'max_depth': 10}\n",
      "0.915 (+/-0.021) for {'n_estimators': 10, 'max_depth': 10}\n",
      "0.913 (+/-0.025) for {'n_estimators': 20, 'max_depth': 10}\n",
      "0.915 (+/-0.026) for {'n_estimators': 30, 'max_depth': 10}\n",
      "0.916 (+/-0.026) for {'n_estimators': 50, 'max_depth': 10}\n",
      "0.918 (+/-0.021) for {'n_estimators': 100, 'max_depth': 10}\n",
      "0.918 (+/-0.024) for {'n_estimators': 200, 'max_depth': 10}\n",
      "0.918 (+/-0.024) for {'n_estimators': 500, 'max_depth': 10}\n",
      "0.848 (+/-0.035) for {'n_estimators': 2, 'max_depth': 15}\n",
      "0.897 (+/-0.022) for {'n_estimators': 3, 'max_depth': 15}\n",
      "0.903 (+/-0.025) for {'n_estimators': 5, 'max_depth': 15}\n",
      "0.909 (+/-0.022) for {'n_estimators': 10, 'max_depth': 15}\n",
      "0.915 (+/-0.022) for {'n_estimators': 20, 'max_depth': 15}\n",
      "0.919 (+/-0.023) for {'n_estimators': 30, 'max_depth': 15}\n",
      "0.917 (+/-0.022) for {'n_estimators': 50, 'max_depth': 15}\n",
      "0.918 (+/-0.022) for {'n_estimators': 100, 'max_depth': 15}\n",
      "0.919 (+/-0.022) for {'n_estimators': 200, 'max_depth': 15}\n",
      "0.919 (+/-0.020) for {'n_estimators': 500, 'max_depth': 15}\n",
      "0.847 (+/-0.023) for {'n_estimators': 2, 'max_depth': 20}\n",
      "0.894 (+/-0.016) for {'n_estimators': 3, 'max_depth': 20}\n",
      "0.902 (+/-0.019) for {'n_estimators': 5, 'max_depth': 20}\n",
      "0.906 (+/-0.023) for {'n_estimators': 10, 'max_depth': 20}\n",
      "0.913 (+/-0.020) for {'n_estimators': 20, 'max_depth': 20}\n",
      "0.914 (+/-0.018) for {'n_estimators': 30, 'max_depth': 20}\n",
      "0.917 (+/-0.019) for {'n_estimators': 50, 'max_depth': 20}\n",
      "0.921 (+/-0.015) for {'n_estimators': 100, 'max_depth': 20}\n",
      "0.918 (+/-0.020) for {'n_estimators': 200, 'max_depth': 20}\n",
      "0.917 (+/-0.020) for {'n_estimators': 500, 'max_depth': 20}\n",
      "0.847 (+/-0.023) for {'n_estimators': 2, 'max_depth': 30}\n",
      "0.894 (+/-0.016) for {'n_estimators': 3, 'max_depth': 30}\n",
      "0.902 (+/-0.019) for {'n_estimators': 5, 'max_depth': 30}\n",
      "0.906 (+/-0.023) for {'n_estimators': 10, 'max_depth': 30}\n",
      "0.913 (+/-0.018) for {'n_estimators': 20, 'max_depth': 30}\n",
      "0.915 (+/-0.017) for {'n_estimators': 30, 'max_depth': 30}\n",
      "0.916 (+/-0.021) for {'n_estimators': 50, 'max_depth': 30}\n",
      "0.920 (+/-0.016) for {'n_estimators': 100, 'max_depth': 30}\n",
      "0.918 (+/-0.018) for {'n_estimators': 200, 'max_depth': 30}\n",
      "0.917 (+/-0.019) for {'n_estimators': 500, 'max_depth': 30}\n"
     ]
    }
   ],
   "source": [
    "print(\"Best parameters set found on development set:\")\n",
    "print(gs.best_params_)\n",
    "print()\n",
    "print(\"Grid scores on training set:\")\n",
    "print()\n",
    "means = gs.cv_results_['mean_test_score']\n",
    "stds = gs.cv_results_['std_test_score']\n",
    "for mean, std, params in zip(means, stds, gs.cv_results_['params']):\n",
    "    print(\"%0.3f (+/-%0.03f) for %r\" % (mean, std * 2, params))"
   ]
  },
  {
   "cell_type": "code",
   "execution_count": 13,
   "metadata": {
    "collapsed": false
   },
   "outputs": [
    {
     "data": {
      "text/html": [
       "<div>\n",
       "<style scoped>\n",
       "    .dataframe tbody tr th:only-of-type {\n",
       "        vertical-align: middle;\n",
       "    }\n",
       "\n",
       "    .dataframe tbody tr th {\n",
       "        vertical-align: top;\n",
       "    }\n",
       "\n",
       "    .dataframe thead th {\n",
       "        text-align: right;\n",
       "    }\n",
       "</style>\n",
       "<table border=\"1\" class=\"dataframe\">\n",
       "  <thead>\n",
       "    <tr style=\"text-align: right;\">\n",
       "      <th></th>\n",
       "      <th>mean_fit_time</th>\n",
       "      <th>mean_score_time</th>\n",
       "      <th>mean_test_score</th>\n",
       "      <th>mean_train_score</th>\n",
       "      <th>param_max_depth</th>\n",
       "      <th>param_n_estimators</th>\n",
       "      <th>params</th>\n",
       "      <th>rank_test_score</th>\n",
       "      <th>split0_test_score</th>\n",
       "      <th>split0_train_score</th>\n",
       "      <th>split1_test_score</th>\n",
       "      <th>split1_train_score</th>\n",
       "      <th>split2_test_score</th>\n",
       "      <th>split2_train_score</th>\n",
       "      <th>split3_test_score</th>\n",
       "      <th>split3_train_score</th>\n",
       "      <th>split4_test_score</th>\n",
       "      <th>split4_train_score</th>\n",
       "      <th>std_fit_time</th>\n",
       "      <th>std_score_time</th>\n",
       "      <th>std_test_score</th>\n",
       "      <th>std_train_score</th>\n",
       "    </tr>\n",
       "  </thead>\n",
       "  <tbody>\n",
       "    <tr>\n",
       "      <th>0</th>\n",
       "      <td>0.013881</td>\n",
       "      <td>0.002632</td>\n",
       "      <td>0.775611</td>\n",
       "      <td>0.777671</td>\n",
       "      <td>1</td>\n",
       "      <td>2</td>\n",
       "      <td>{u'n_estimators': 2, u'max_depth': 1}</td>\n",
       "      <td>82</td>\n",
       "      <td>0.790123</td>\n",
       "      <td>0.773695</td>\n",
       "      <td>0.782967</td>\n",
       "      <td>0.776862</td>\n",
       "      <td>0.769231</td>\n",
       "      <td>0.780295</td>\n",
       "      <td>0.767857</td>\n",
       "      <td>0.777206</td>\n",
       "      <td>0.767857</td>\n",
       "      <td>0.780295</td>\n",
       "      <td>0.003265</td>\n",
       "      <td>0.000590</td>\n",
       "      <td>0.009229</td>\n",
       "      <td>0.002468</td>\n",
       "    </tr>\n",
       "    <tr>\n",
       "      <th>1</th>\n",
       "      <td>0.021396</td>\n",
       "      <td>0.003766</td>\n",
       "      <td>0.767921</td>\n",
       "      <td>0.770667</td>\n",
       "      <td>1</td>\n",
       "      <td>3</td>\n",
       "      <td>{u'n_estimators': 3, u'max_depth': 1}</td>\n",
       "      <td>90</td>\n",
       "      <td>0.776406</td>\n",
       "      <td>0.767170</td>\n",
       "      <td>0.782967</td>\n",
       "      <td>0.776862</td>\n",
       "      <td>0.758242</td>\n",
       "      <td>0.768967</td>\n",
       "      <td>0.758242</td>\n",
       "      <td>0.765877</td>\n",
       "      <td>0.763736</td>\n",
       "      <td>0.774459</td>\n",
       "      <td>0.001953</td>\n",
       "      <td>0.000608</td>\n",
       "      <td>0.010032</td>\n",
       "      <td>0.004262</td>\n",
       "    </tr>\n",
       "    <tr>\n",
       "      <th>2</th>\n",
       "      <td>0.032885</td>\n",
       "      <td>0.005901</td>\n",
       "      <td>0.809942</td>\n",
       "      <td>0.811041</td>\n",
       "      <td>1</td>\n",
       "      <td>5</td>\n",
       "      <td>{u'n_estimators': 5, u'max_depth': 1}</td>\n",
       "      <td>79</td>\n",
       "      <td>0.823045</td>\n",
       "      <td>0.808379</td>\n",
       "      <td>0.815934</td>\n",
       "      <td>0.810161</td>\n",
       "      <td>0.809066</td>\n",
       "      <td>0.811878</td>\n",
       "      <td>0.803571</td>\n",
       "      <td>0.810161</td>\n",
       "      <td>0.798077</td>\n",
       "      <td>0.814624</td>\n",
       "      <td>0.000425</td>\n",
       "      <td>0.000182</td>\n",
       "      <td>0.008830</td>\n",
       "      <td>0.002106</td>\n",
       "    </tr>\n",
       "    <tr>\n",
       "      <th>3</th>\n",
       "      <td>0.049651</td>\n",
       "      <td>0.008640</td>\n",
       "      <td>0.774238</td>\n",
       "      <td>0.776160</td>\n",
       "      <td>1</td>\n",
       "      <td>10</td>\n",
       "      <td>{u'n_estimators': 10, u'max_depth': 1}</td>\n",
       "      <td>84</td>\n",
       "      <td>0.792867</td>\n",
       "      <td>0.774725</td>\n",
       "      <td>0.773352</td>\n",
       "      <td>0.768623</td>\n",
       "      <td>0.769231</td>\n",
       "      <td>0.780295</td>\n",
       "      <td>0.767857</td>\n",
       "      <td>0.776862</td>\n",
       "      <td>0.767857</td>\n",
       "      <td>0.780295</td>\n",
       "      <td>0.011606</td>\n",
       "      <td>0.002127</td>\n",
       "      <td>0.009536</td>\n",
       "      <td>0.004326</td>\n",
       "    </tr>\n",
       "    <tr>\n",
       "      <th>4</th>\n",
       "      <td>0.093227</td>\n",
       "      <td>0.014822</td>\n",
       "      <td>0.775062</td>\n",
       "      <td>0.776092</td>\n",
       "      <td>1</td>\n",
       "      <td>20</td>\n",
       "      <td>{u'n_estimators': 20, u'max_depth': 1}</td>\n",
       "      <td>83</td>\n",
       "      <td>0.792867</td>\n",
       "      <td>0.774725</td>\n",
       "      <td>0.782967</td>\n",
       "      <td>0.774116</td>\n",
       "      <td>0.769231</td>\n",
       "      <td>0.779609</td>\n",
       "      <td>0.765110</td>\n",
       "      <td>0.774116</td>\n",
       "      <td>0.765110</td>\n",
       "      <td>0.777892</td>\n",
       "      <td>0.022935</td>\n",
       "      <td>0.003086</td>\n",
       "      <td>0.011062</td>\n",
       "      <td>0.002249</td>\n",
       "    </tr>\n",
       "  </tbody>\n",
       "</table>\n",
       "</div>"
      ],
      "text/plain": [
       "   mean_fit_time  mean_score_time  mean_test_score  mean_train_score  \\\n",
       "0       0.013881         0.002632         0.775611          0.777671   \n",
       "1       0.021396         0.003766         0.767921          0.770667   \n",
       "2       0.032885         0.005901         0.809942          0.811041   \n",
       "3       0.049651         0.008640         0.774238          0.776160   \n",
       "4       0.093227         0.014822         0.775062          0.776092   \n",
       "\n",
       "  param_max_depth param_n_estimators                                  params  \\\n",
       "0               1                  2   {u'n_estimators': 2, u'max_depth': 1}   \n",
       "1               1                  3   {u'n_estimators': 3, u'max_depth': 1}   \n",
       "2               1                  5   {u'n_estimators': 5, u'max_depth': 1}   \n",
       "3               1                 10  {u'n_estimators': 10, u'max_depth': 1}   \n",
       "4               1                 20  {u'n_estimators': 20, u'max_depth': 1}   \n",
       "\n",
       "   rank_test_score  split0_test_score  split0_train_score  split1_test_score  \\\n",
       "0               82           0.790123            0.773695           0.782967   \n",
       "1               90           0.776406            0.767170           0.782967   \n",
       "2               79           0.823045            0.808379           0.815934   \n",
       "3               84           0.792867            0.774725           0.773352   \n",
       "4               83           0.792867            0.774725           0.782967   \n",
       "\n",
       "   split1_train_score  split2_test_score  split2_train_score  \\\n",
       "0            0.776862           0.769231            0.780295   \n",
       "1            0.776862           0.758242            0.768967   \n",
       "2            0.810161           0.809066            0.811878   \n",
       "3            0.768623           0.769231            0.780295   \n",
       "4            0.774116           0.769231            0.779609   \n",
       "\n",
       "   split3_test_score  split3_train_score  split4_test_score  \\\n",
       "0           0.767857            0.777206           0.767857   \n",
       "1           0.758242            0.765877           0.763736   \n",
       "2           0.803571            0.810161           0.798077   \n",
       "3           0.767857            0.776862           0.767857   \n",
       "4           0.765110            0.774116           0.765110   \n",
       "\n",
       "   split4_train_score  std_fit_time  std_score_time  std_test_score  \\\n",
       "0            0.780295      0.003265        0.000590        0.009229   \n",
       "1            0.774459      0.001953        0.000608        0.010032   \n",
       "2            0.814624      0.000425        0.000182        0.008830   \n",
       "3            0.780295      0.011606        0.002127        0.009536   \n",
       "4            0.777892      0.022935        0.003086        0.011062   \n",
       "\n",
       "   std_train_score  \n",
       "0         0.002468  \n",
       "1         0.004262  \n",
       "2         0.002106  \n",
       "3         0.004326  \n",
       "4         0.002249  "
      ]
     },
     "execution_count": 13,
     "metadata": {},
     "output_type": "execute_result"
    }
   ],
   "source": [
    "cv_results = pd.DataFrame(gs.cv_results_)\n",
    "cv_results.head(5)"
   ]
  },
  {
   "cell_type": "code",
   "execution_count": 14,
   "metadata": {
    "collapsed": false
   },
   "outputs": [
    {
     "data": {
      "text/html": [
       "<div>\n",
       "<style scoped>\n",
       "    .dataframe tbody tr th:only-of-type {\n",
       "        vertical-align: middle;\n",
       "    }\n",
       "\n",
       "    .dataframe tbody tr th {\n",
       "        vertical-align: top;\n",
       "    }\n",
       "\n",
       "    .dataframe thead th {\n",
       "        text-align: right;\n",
       "    }\n",
       "</style>\n",
       "<table border=\"1\" class=\"dataframe\">\n",
       "  <thead>\n",
       "    <tr style=\"text-align: right;\">\n",
       "      <th></th>\n",
       "      <th>mean_test_score</th>\n",
       "      <th>param_max_depth</th>\n",
       "      <th>param_n_estimators</th>\n",
       "    </tr>\n",
       "  </thead>\n",
       "  <tbody>\n",
       "    <tr>\n",
       "      <th>0</th>\n",
       "      <td>0.775611</td>\n",
       "      <td>1</td>\n",
       "      <td>2</td>\n",
       "    </tr>\n",
       "    <tr>\n",
       "      <th>1</th>\n",
       "      <td>0.767921</td>\n",
       "      <td>1</td>\n",
       "      <td>3</td>\n",
       "    </tr>\n",
       "    <tr>\n",
       "      <th>2</th>\n",
       "      <td>0.809942</td>\n",
       "      <td>1</td>\n",
       "      <td>5</td>\n",
       "    </tr>\n",
       "    <tr>\n",
       "      <th>3</th>\n",
       "      <td>0.774238</td>\n",
       "      <td>1</td>\n",
       "      <td>10</td>\n",
       "    </tr>\n",
       "    <tr>\n",
       "      <th>4</th>\n",
       "      <td>0.775062</td>\n",
       "      <td>1</td>\n",
       "      <td>20</td>\n",
       "    </tr>\n",
       "    <tr>\n",
       "      <th>5</th>\n",
       "      <td>0.769294</td>\n",
       "      <td>1</td>\n",
       "      <td>30</td>\n",
       "    </tr>\n",
       "    <tr>\n",
       "      <th>6</th>\n",
       "      <td>0.770393</td>\n",
       "      <td>1</td>\n",
       "      <td>50</td>\n",
       "    </tr>\n",
       "    <tr>\n",
       "      <th>7</th>\n",
       "      <td>0.769569</td>\n",
       "      <td>1</td>\n",
       "      <td>100</td>\n",
       "    </tr>\n",
       "    <tr>\n",
       "      <th>8</th>\n",
       "      <td>0.771217</td>\n",
       "      <td>1</td>\n",
       "      <td>200</td>\n",
       "    </tr>\n",
       "    <tr>\n",
       "      <th>9</th>\n",
       "      <td>0.770942</td>\n",
       "      <td>1</td>\n",
       "      <td>500</td>\n",
       "    </tr>\n",
       "    <tr>\n",
       "      <th>10</th>\n",
       "      <td>0.885471</td>\n",
       "      <td>2</td>\n",
       "      <td>2</td>\n",
       "    </tr>\n",
       "    <tr>\n",
       "      <th>11</th>\n",
       "      <td>0.880253</td>\n",
       "      <td>2</td>\n",
       "      <td>3</td>\n",
       "    </tr>\n",
       "    <tr>\n",
       "      <th>12</th>\n",
       "      <td>0.873386</td>\n",
       "      <td>2</td>\n",
       "      <td>5</td>\n",
       "    </tr>\n",
       "    <tr>\n",
       "      <th>13</th>\n",
       "      <td>0.828619</td>\n",
       "      <td>2</td>\n",
       "      <td>10</td>\n",
       "    </tr>\n",
       "    <tr>\n",
       "      <th>14</th>\n",
       "      <td>0.806647</td>\n",
       "      <td>2</td>\n",
       "      <td>20</td>\n",
       "    </tr>\n",
       "  </tbody>\n",
       "</table>\n",
       "</div>"
      ],
      "text/plain": [
       "    mean_test_score param_max_depth param_n_estimators\n",
       "0          0.775611               1                  2\n",
       "1          0.767921               1                  3\n",
       "2          0.809942               1                  5\n",
       "3          0.774238               1                 10\n",
       "4          0.775062               1                 20\n",
       "5          0.769294               1                 30\n",
       "6          0.770393               1                 50\n",
       "7          0.769569               1                100\n",
       "8          0.771217               1                200\n",
       "9          0.770942               1                500\n",
       "10         0.885471               2                  2\n",
       "11         0.880253               2                  3\n",
       "12         0.873386               2                  5\n",
       "13         0.828619               2                 10\n",
       "14         0.806647               2                 20"
      ]
     },
     "execution_count": 14,
     "metadata": {},
     "output_type": "execute_result"
    }
   ],
   "source": [
    "cv_results[['mean_test_score', 'param_max_depth', 'param_n_estimators']].head(15)"
   ]
  },
  {
   "cell_type": "code",
   "execution_count": 15,
   "metadata": {
    "collapsed": false
   },
   "outputs": [
    {
     "data": {
      "text/html": [
       "<div>\n",
       "<style scoped>\n",
       "    .dataframe tbody tr th:only-of-type {\n",
       "        vertical-align: middle;\n",
       "    }\n",
       "\n",
       "    .dataframe tbody tr th {\n",
       "        vertical-align: top;\n",
       "    }\n",
       "\n",
       "    .dataframe thead th {\n",
       "        text-align: right;\n",
       "    }\n",
       "</style>\n",
       "<table border=\"1\" class=\"dataframe\">\n",
       "  <thead>\n",
       "    <tr style=\"text-align: right;\">\n",
       "      <th></th>\n",
       "      <th>mean_test_score</th>\n",
       "      <th>param_max_depth</th>\n",
       "      <th>param_n_estimators</th>\n",
       "    </tr>\n",
       "  </thead>\n",
       "  <tbody>\n",
       "    <tr>\n",
       "      <th>77</th>\n",
       "      <td>0.920626</td>\n",
       "      <td>20</td>\n",
       "      <td>100</td>\n",
       "    </tr>\n",
       "    <tr>\n",
       "      <th>87</th>\n",
       "      <td>0.920077</td>\n",
       "      <td>30</td>\n",
       "      <td>100</td>\n",
       "    </tr>\n",
       "    <tr>\n",
       "      <th>69</th>\n",
       "      <td>0.919253</td>\n",
       "      <td>15</td>\n",
       "      <td>500</td>\n",
       "    </tr>\n",
       "    <tr>\n",
       "      <th>65</th>\n",
       "      <td>0.918704</td>\n",
       "      <td>15</td>\n",
       "      <td>30</td>\n",
       "    </tr>\n",
       "    <tr>\n",
       "      <th>68</th>\n",
       "      <td>0.918704</td>\n",
       "      <td>15</td>\n",
       "      <td>200</td>\n",
       "    </tr>\n",
       "  </tbody>\n",
       "</table>\n",
       "</div>"
      ],
      "text/plain": [
       "    mean_test_score param_max_depth param_n_estimators\n",
       "77         0.920626              20                100\n",
       "87         0.920077              30                100\n",
       "69         0.919253              15                500\n",
       "65         0.918704              15                 30\n",
       "68         0.918704              15                200"
      ]
     },
     "execution_count": 15,
     "metadata": {},
     "output_type": "execute_result"
    }
   ],
   "source": [
    "cv_results[['mean_test_score', 'param_max_depth', 'param_n_estimators']].sort_values(by='mean_test_score', ascending=False).head()"
   ]
  },
  {
   "cell_type": "markdown",
   "metadata": {},
   "source": [
    "### Plot some learning curves"
   ]
  },
  {
   "cell_type": "code",
   "execution_count": 32,
   "metadata": {
    "collapsed": false
   },
   "outputs": [
    {
     "data": {
      "image/png": "[encoded data removed]",
      "text/plain": [
       "<matplotlib.figure.Figure at 0x7fd785aac090>"
      ]
     },
     "metadata": {},
     "output_type": "display_data"
    }
   ],
   "source": [
    "this_cv_results = cv_results[cv_results['param_n_estimators'] == 10]\n",
    "plt.errorbar(this_cv_results['param_max_depth'],\n",
    "             this_cv_results['mean_test_score']);\n",
    "plt.xlabel('max depth')\n",
    "plt.ylabel('accuracy');"
   ]
  },
  {
   "cell_type": "code",
   "execution_count": 33,
   "metadata": {
    "collapsed": false
   },
   "outputs": [
    {
     "data": {
      "image/png": "[encoded data removed]",
      "text/plain": [
       "<matplotlib.figure.Figure at 0x7fd7959a1450>"
      ]
     },
     "metadata": {},
     "output_type": "display_data"
    }
   ],
   "source": [
    "this_cv_results = cv_results[cv_results['param_max_depth'] == 15]\n",
    "plt.errorbar(this_cv_results['param_n_estimators'],\n",
    "             this_cv_results['mean_test_score']);\n",
    "plt.xlabel('nb estimators')\n",
    "plt.ylabel('accuracy');"
   ]
  },
  {
   "cell_type": "markdown",
   "metadata": {},
   "source": [
    "## Now let's automate the search"
   ]
  },
  {
   "cell_type": "markdown",
   "metadata": {},
   "source": [
    "All wrapper-type hyperparameter optimization will need a function with a parameter that represents the hyperparameter, and which returns a score (usually to be minimized). The following function thus trains a random forest classifier with two hyperparameters, stored in a pair <code>x_int</code>."
   ]
  },
  {
   "cell_type": "code",
   "execution_count": 23,
   "metadata": {
    "collapsed": true
   },
   "outputs": [],
   "source": [
    "i = 0\n",
    "\n",
    "def objective(params):\n",
    "    global i\n",
    "    i += 1\n",
    "    print(params)\n",
    "    clf = RandomForestClassifier(n_estimators=300,\n",
    "                                 max_depth=int(params['max_depth']),\n",
    "                                 max_features=params['max_features'])\n",
    "    scores = cross_val_score(clf, X_train, y_train, cv=cv, scoring='accuracy', n_jobs=3)\n",
    "    score = np.mean(scores)\n",
    "    print(\"SCORE: %s\" % score)\n",
    "    df_result_hyperopt.loc[i, ['score'] + list(params.keys())] = \\\n",
    "        [score] + list(params.values())\n",
    "    return {'loss': 1. - score, 'status': STATUS_OK}"
   ]
  },
  {
   "cell_type": "code",
   "execution_count": 24,
   "metadata": {
    "collapsed": false
   },
   "outputs": [
    {
     "name": "stdout",
     "output_type": "stream",
     "text": [
      "{'max_features': 0.75, 'max_depth': 11.0}\n",
      "SCORE: 0.915384615385\n",
      "{'max_features': 0.75, 'max_depth': 14.0}\n",
      "SCORE: 0.915934065934\n",
      "{'max_features': 0.9500000000000001, 'max_depth': 3.0}\n",
      "SCORE: 0.896703296703\n",
      "{'max_features': 0.8500000000000001, 'max_depth': 19.0}\n",
      "SCORE: 0.915384615385\n",
      "{'max_features': 0.75, 'max_depth': 12.0}\n",
      "SCORE: 0.914835164835\n",
      "{'max_features': 0.9, 'max_depth': 5.0}\n",
      "SCORE: 0.903846153846\n",
      "{'max_features': 0.9500000000000001, 'max_depth': 17.0}\n",
      "SCORE: 0.915934065934\n",
      "{'max_features': 0.7000000000000001, 'max_depth': 15.0}\n",
      "SCORE: 0.915384615385\n",
      "{'max_features': 0.9500000000000001, 'max_depth': 16.0}\n",
      "SCORE: 0.915384615385\n",
      "{'max_features': 0.8500000000000001, 'max_depth': 12.0}\n",
      "SCORE: 0.914835164835\n",
      "{'max_features': 0.75, 'max_depth': 28.0}\n",
      "SCORE: 0.915384615385\n",
      "{'max_features': 0.9500000000000001, 'max_depth': 27.0}\n",
      "SCORE: 0.915384615385\n",
      "{'max_features': 0.75, 'max_depth': 18.0}\n",
      "SCORE: 0.915384615385\n",
      "{'max_features': 0.9500000000000001, 'max_depth': 24.0}\n",
      "SCORE: 0.915384615385\n",
      "{'max_features': 0.8, 'max_depth': 23.0}\n",
      "SCORE: 0.915384615385\n",
      "Best: {'max_features': 0.75, 'max_depth': 14.0}\n"
     ]
    }
   ],
   "source": [
    "from hyperopt import fmin, tpe, hp, Trials, STATUS_OK\n",
    "\n",
    "space = {\n",
    "    'max_depth': hp.quniform('max_depth', 2, 30, 1),\n",
    "    'max_features': hp.quniform('max_features', 0.7, 1, 0.05)\n",
    "}\n",
    "\n",
    "df_result_hyperopt = pd.DataFrame(\n",
    "    columns=['score'] + list(space.keys()))\n",
    "\n",
    "trials = Trials()\n",
    "best = fmin(fn=objective, space=space, algo=tpe.suggest,\n",
    "            max_evals=15, trials=trials)\n",
    "\n",
    "print(\"Best: %s\" % best)"
   ]
  },
  {
   "cell_type": "code",
   "execution_count": 25,
   "metadata": {
    "collapsed": false
   },
   "outputs": [
    {
     "data": {
      "text/html": [
       "<div>\n",
       "<style scoped>\n",
       "    .dataframe tbody tr th:only-of-type {\n",
       "        vertical-align: middle;\n",
       "    }\n",
       "\n",
       "    .dataframe tbody tr th {\n",
       "        vertical-align: top;\n",
       "    }\n",
       "\n",
       "    .dataframe thead th {\n",
       "        text-align: right;\n",
       "    }\n",
       "</style>\n",
       "<table border=\"1\" class=\"dataframe\">\n",
       "  <thead>\n",
       "    <tr style=\"text-align: right;\">\n",
       "      <th></th>\n",
       "      <th>score</th>\n",
       "      <th>max_features</th>\n",
       "      <th>max_depth</th>\n",
       "    </tr>\n",
       "  </thead>\n",
       "  <tbody>\n",
       "    <tr>\n",
       "      <th>2</th>\n",
       "      <td>0.915934</td>\n",
       "      <td>0.75</td>\n",
       "      <td>14</td>\n",
       "    </tr>\n",
       "    <tr>\n",
       "      <th>7</th>\n",
       "      <td>0.915934</td>\n",
       "      <td>0.95</td>\n",
       "      <td>17</td>\n",
       "    </tr>\n",
       "    <tr>\n",
       "      <th>1</th>\n",
       "      <td>0.915385</td>\n",
       "      <td>0.75</td>\n",
       "      <td>11</td>\n",
       "    </tr>\n",
       "    <tr>\n",
       "      <th>4</th>\n",
       "      <td>0.915385</td>\n",
       "      <td>0.85</td>\n",
       "      <td>19</td>\n",
       "    </tr>\n",
       "    <tr>\n",
       "      <th>8</th>\n",
       "      <td>0.915385</td>\n",
       "      <td>0.7</td>\n",
       "      <td>15</td>\n",
       "    </tr>\n",
       "    <tr>\n",
       "      <th>9</th>\n",
       "      <td>0.915385</td>\n",
       "      <td>0.95</td>\n",
       "      <td>16</td>\n",
       "    </tr>\n",
       "    <tr>\n",
       "      <th>11</th>\n",
       "      <td>0.915385</td>\n",
       "      <td>0.75</td>\n",
       "      <td>28</td>\n",
       "    </tr>\n",
       "    <tr>\n",
       "      <th>12</th>\n",
       "      <td>0.915385</td>\n",
       "      <td>0.95</td>\n",
       "      <td>27</td>\n",
       "    </tr>\n",
       "    <tr>\n",
       "      <th>13</th>\n",
       "      <td>0.915385</td>\n",
       "      <td>0.75</td>\n",
       "      <td>18</td>\n",
       "    </tr>\n",
       "    <tr>\n",
       "      <th>14</th>\n",
       "      <td>0.915385</td>\n",
       "      <td>0.95</td>\n",
       "      <td>24</td>\n",
       "    </tr>\n",
       "  </tbody>\n",
       "</table>\n",
       "</div>"
      ],
      "text/plain": [
       "       score max_features max_depth\n",
       "2   0.915934         0.75        14\n",
       "7   0.915934         0.95        17\n",
       "1   0.915385         0.75        11\n",
       "4   0.915385         0.85        19\n",
       "8   0.915385          0.7        15\n",
       "9   0.915385         0.95        16\n",
       "11  0.915385         0.75        28\n",
       "12  0.915385         0.95        27\n",
       "13  0.915385         0.75        18\n",
       "14  0.915385         0.95        24"
      ]
     },
     "execution_count": 25,
     "metadata": {},
     "output_type": "execute_result"
    }
   ],
   "source": [
    "df_result_hyperopt.sort_values(by='score', ascending=False).head(10)"
   ]
  },
  {
   "cell_type": "code",
   "execution_count": null,
   "metadata": {
    "collapsed": true
   },
   "outputs": [],
   "source": []
  }
 ],
 "metadata": {
  "kernelspec": {
   "display_name": "Python 2",
   "language": "python",
   "name": "python2"
  },
  "language_info": {
   "codemirror_mode": {
    "name": "ipython",
    "version": 2
   },
   "file_extension": ".py",
   "mimetype": "text/x-python",
   "name": "python",
   "nbconvert_exporter": "python",
   "pygments_lexer": "ipython2",
   "version": "2.7.12"
  }
 },
 "nbformat": 4,
 "nbformat_minor": 1
}
