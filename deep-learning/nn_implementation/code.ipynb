{
 "cells": [
  {
   "cell_type": "markdown",
   "metadata": {},
   "source": [
    "<center>\n",
    "<h1> NN with hidden layers implementation </h1>\n",
    "<br>\n",
    "Taycir Yahmed\n",
    "</center>\n",
    "<br>"
   ]
  },
  {
   "cell_type": "code",
   "execution_count": 116,
   "metadata": {
    "collapsed": false
   },
   "outputs": [],
   "source": [
    "%matplotlib inline\n",
    "import os\n",
    "import sys\n",
    "import numpy as np\n",
    "import matplotlib.pyplot as plt\n",
    "import math\n",
    "import time\n",
    "import copy\n",
    "from IPython.display import clear_output\n",
    "\n",
    "if(\"mnist.pkl.gz\" not in os.listdir(\".\")):\n",
    "    !wget http://deeplearning.net/data/mnist/mnist.pkl.gz\n",
    "\n",
    "#####################\n",
    "# Gestion des données\n",
    "#####################  \n",
    "import dataset_loader\n",
    "\n",
    "#train_set, valid_set, test_set = dataset_loader.load_cifar10()\n",
    "train_set, valid_set, test_set = dataset_loader.load_mnist()\n",
    "\n",
    "def getDimDataset(train_set):\n",
    "\n",
    "    n_training = len(train_set[1])\n",
    "    n_feature = len(train_set[0][1])\n",
    "    n_label = len(np.unique(train_set[1]))\n",
    "\n",
    "    return n_training, n_feature, n_label\n",
    "\n",
    "n_training, n_feature, n_label = getDimDataset(train_set)\n",
    "\n",
    "########################\n",
    "# Gestion des paramètres\n",
    "########################\n",
    "\n",
    "# Taille de la couche cachée: sous forme de liste, il est possible\n",
    "# d'utiliser plusieurs couches cachées, avec par exemple [128, 64]\n",
    "n_hidden = [100]\n",
    "\n",
    "# Fonction d'activation: à choisir parmi 'sigmoid', 'tanh' et 'relu'\n",
    "act_func = 'relu'\n",
    "\n",
    "# Taille du batch\n",
    "batch_size = 50\n",
    "\n",
    "# Taux d'apprentissage:\n",
    "eta = 0.01\n",
    "\n",
    "# Nombre d'époques:\n",
    "n_epoch = 20"
   ]
  },
  {
   "cell_type": "code",
   "execution_count": 117,
   "metadata": {
    "collapsed": false
   },
   "outputs": [],
   "source": [
    "def initNetwork(nn_arch, act_func_name):\n",
    "    \"\"\"\n",
    "    Initialize the neural network weights, activation function and return the number of parameters\n",
    "    Inputs: nn_arch: the number of units per hidden layer -  list of int\n",
    "          : act_func_name: the activation function name (sigmoid, tanh or relu) - str\n",
    "    Outputs: W: a list of weights for each hidden layer - list of ndarray\n",
    "           : B: a list of bias for each hidden layer - list of ndarray\n",
    "           : act_func: the activation function - function\n",
    "           : nb_params: the number of parameters  - int\n",
    "    \"\"\"\n",
    "\n",
    "    (W, B, dB_cum, dW_cum) = ([], [], [], [])\n",
    "    sigma = 1.0\n",
    "    act_func = globals()[act_func_name]  # Cast the string to a function\n",
    "    nb_params = 0\n",
    "\n",
    "    if act_func_name == 'sigmoid':\n",
    "        sigma = 4.0\n",
    "\n",
    "    for i in range(np.size(nn_arch) - 1):\n",
    "        w = np.random.normal(loc=0.0, scale=sigma\n",
    "                             / np.sqrt(nn_arch[i]), size=(nn_arch[i + 1], nn_arch[i]))\n",
    "        \n",
    "        dw_cum = np.zeros(w.shape)\n",
    "        dW_cum.append(dw_cum)\n",
    "        \n",
    "        W.append(w)\n",
    "        \n",
    "        b = np.zeros((w.shape[0], 1))\n",
    "        if act_func_name == 'sigmoid':\n",
    "            b = np.sum(w, 1).reshape(-1, 1) / -2.0\n",
    "        \n",
    "        db_cum = np.zeros(b.shape)\n",
    "        dB_cum.append(db_cum)\n",
    "        \n",
    "        B.append(b)\n",
    "        nb_params += nn_arch[i + 1] * nn_arch[i] + nn_arch[i + 1]\n",
    "    \n",
    "\n",
    "    return (W, B, act_func, nb_params, dB_cum, dW_cum)"
   ]
  },
  {
   "cell_type": "code",
   "execution_count": 118,
   "metadata": {
    "collapsed": true
   },
   "outputs": [],
   "source": [
    "########################\n",
    "# Fonctions d'activation\n",
    "########################\n",
    "\n",
    "def sigmoid(z, grad_flag=True):\n",
    "    \"\"\"\n",
    "    Perform the sigmoid transformation to the pre-activation values\n",
    "    Inputs: z: the pre-activation values - ndarray\n",
    "          : grad_flag: flag for computing the derivatives w.r.t. z - boolean\n",
    "    Outputs: y: the activation values - ndarray\n",
    "           : yp: the derivatives w.r.t. z - ndarray\n",
    "    \"\"\"\n",
    "\n",
    "    # compute the sigmoid y and its derivative yp\n",
    "\n",
    "    y = 1 / (1 + np.exp(-z))\n",
    "\n",
    "    if grad_flag:\n",
    "\n",
    "        yp = y * (1 - y)\n",
    "\n",
    "        return (y, yp)\n",
    "\n",
    "    return y\n",
    "\n",
    "\n",
    "def tanh(z, grad_flag=True):\n",
    "    \"\"\"\n",
    "    Perform the tanh transformation to the pre-activation values\n",
    "    Inputs: z: the pre-activation values - ndarray\n",
    "          : grad_flag: flag for computing the derivatives w.r.t. z - boolean\n",
    "    Outputs: y: the activation values - ndarray\n",
    "           : yp: the derivatives w.r.t. z - ndarray\n",
    "    \"\"\"\n",
    "\n",
    "    y = np.tanh(z)\n",
    "\n",
    "    if grad_flag:\n",
    "\n",
    "        yp = 1 - np.tanh(z) ** 2\n",
    "\n",
    "        return (y, yp)\n",
    "\n",
    "    return y\n",
    "\n",
    "def relu(z, grad_flag=True):\n",
    "    \"\"\"\n",
    "    Perform the relu transformation to the pre-activation values\n",
    "    Inputs: z: the pre-activation values - ndarray\n",
    "          : grad_flag: flag for computing the derivatives w.r.t. z - boolean\n",
    "    Outputs: y: the activation values - ndarray\n",
    "    \"\"\"\n",
    "\n",
    "    # compute the relu y and its derivative yp\n",
    "\n",
    "    yp = (np.sign(z) + 1) / 2\n",
    "\n",
    "    y = yp * z\n",
    "\n",
    "    if grad_flag:\n",
    "        return np.clip(y,-200,200), yp\n",
    "\n",
    "    return np.clip(y,-200,200)"
   ]
  },
  {
   "cell_type": "code",
   "execution_count": 119,
   "metadata": {
    "collapsed": false
   },
   "outputs": [],
   "source": [
    "####################\n",
    "# Création du réseau\n",
    "####################\n",
    "\n",
    "### Network Architecture\n",
    "nn_arch = np.array([n_feature] + n_hidden + [n_label])\n",
    "\n",
    "### Create the neural network\n",
    "W, B, act_func, nb_params, dB_cum, dW_cum = initNetwork(nn_arch, act_func)"
   ]
  },
  {
   "cell_type": "code",
   "execution_count": 120,
   "metadata": {
    "collapsed": true
   },
   "outputs": [],
   "source": [
    "def forward(act_func, W, B, X):\n",
    "    \"\"\"\n",
    "    Perform the forward propagation\n",
    "    Inputs: act_func: the activation function - function\n",
    "          : W: the weights - list of ndarray\n",
    "          : B: the bias - list of ndarray\n",
    "          : X: the batch - ndarray\n",
    "    Outputs: Y: a list of activation values - list of ndarray\n",
    "           : Yp: a list of the derivatives w.r.t. the pre-activation of the activation values - list of ndarray\n",
    "    \"\"\"\n",
    "    \n",
    "    (Y, Yp) = ([np.transpose(X)], [])\n",
    "\n",
    "    yi = X.T\n",
    "\n",
    "    for i in range(len(W)):\n",
    "        zi = W[i].dot(yi) + B[i]\n",
    "\n",
    "        (yi, ypi) = act_func(zi)\n",
    "\n",
    "        Y.append(yi)\n",
    "        Yp.append(ypi)\n",
    "\n",
    "    return (Y, Yp)\n"
   ]
  },
  {
   "cell_type": "code",
   "execution_count": 121,
   "metadata": {
    "collapsed": false
   },
   "outputs": [],
   "source": [
    "def backward(error, W, Yp):\n",
    "    \"\"\"\n",
    "    Perform the backward propagation\n",
    "    Inputs: error: the gradient w.r.t. to the last layer - ndarray\n",
    "          : W: the weights - list of ndarray\n",
    "          : Yp: the derivatives w.r.t. the pre-activation of the activation functions - list of ndarray\n",
    "    Outputs: gradb: a list of gradient w.r.t. the pre-activation with this order [gradb_layer1, ..., error] - list of ndarray\n",
    "    \"\"\"\n",
    "\n",
    "    gradB = [error]  \n",
    "\n",
    "    for i in range(len(W)-2, -1, -1):\n",
    "\n",
    "        #backpropagation formula        \n",
    "        derror = Yp[i]* (W[i+1].T.dot(gradB[-1]))\n",
    "        gradB.append(derror)\n",
    "\n",
    "    #inverse order [gradb_layer1, ..., error]\n",
    "    gradB.reverse()    \n",
    "\n",
    "    return gradB\n"
   ]
  },
  {
   "cell_type": "code",
   "execution_count": 122,
   "metadata": {
    "collapsed": false
   },
   "outputs": [],
   "source": [
    "def updateParams(theta, dtheta, eta, lamda, dtheta_cum, epsilon, regularizer=None):\n",
    "    \"\"\"\n",
    "    Perform the update of the parameters\n",
    "    Inputs: theta: the network parameters - ndarray\n",
    "          : dtheta: the updates of the parameters - ndarray\n",
    "          : eta: the step-size of the gradient descent - float\n",
    "          : regularizer: choice of the regularizer: None, 'L1', or 'L2'\n",
    "          : lambda: hyperparamater giving the importance of the regularizer - float\n",
    "    Outputs: the parameters updated - ndarray\n",
    "    \"\"\"    \n",
    "    \n",
    "    b = np.sqrt(dtheta_cum) + epsilon\n",
    "    \n",
    "    if regularizer==None:        \n",
    "        \n",
    "        a  = (eta /  b) * dtheta\n",
    "        \n",
    "        return theta - a\n",
    "    \n",
    "    elif regularizer=='L1':\n",
    "\n",
    "        return (theta - (eta /  b) * dtheta) + (eta /  b) * lamda * np.sign(theta)\n",
    "        \n",
    "    elif regularizer=='L2':\n",
    "\n",
    "        return (1 + (eta /  b) *lamda)*theta - (eta /  b) * dtheta "
   ]
  },
  {
   "cell_type": "code",
   "execution_count": 123,
   "metadata": {
    "collapsed": false
   },
   "outputs": [],
   "source": [
    "def update(eta, batch_size, W, B, gradB, Y, regularizer, lamda,dW_cum, dB_cum, epsilon):\n",
    "    \"\"\"\n",
    "    Perform the update of the parameters\n",
    "    Inputs: eta: the step-size of the gradient descent - float \n",
    "          : batch_size: number of examples in the batch (for normalizing) - int\n",
    "          : W: the weights - list of ndarray\n",
    "          : B: the bias -  list of ndarray\n",
    "          : gradB: the gradient of the activations w.r.t. to the loss -  list of ndarray\n",
    "          : Y: the activation values -  list of ndarray\n",
    "    Outputs: W: the weights updated -  list of ndarray\n",
    "           : B: the bias updated -  list of ndarray\n",
    "    \"\"\"  \n",
    "   \n",
    "    for i in range(len(gradB)):\n",
    "        \n",
    "        grad_b = (np.sum(gradB[i],axis=1)/float(batch_size)).reshape(-1,1)\n",
    "        grad_w = np.array(np.dot(gradB[i], Y[i].T)) / float(batch_size)\n",
    "        \n",
    "        dW_cum [i] += np.square(grad_w)\n",
    "        dB_cum [i] += np.square(grad_b)\n",
    "        \n",
    "        W[i] = updateParams(W[i], grad_w, eta,lamda, dW_cum[i], epsilon, regularizer)\n",
    "        B[i] = updateParams(B[i], grad_b.reshape(-1,1), eta , lamda, dB_cum[i], epsilon, regularizer)\n",
    "    \n",
    "    return W, B"
   ]
  },
  {
   "cell_type": "code",
   "execution_count": 124,
   "metadata": {
    "collapsed": false
   },
   "outputs": [],
   "source": [
    "def softmax(z):\n",
    "    \"\"\"\n",
    "    Perform the softmax transformation to the pre-activation values\n",
    "    Inputs: z: the pre-activation values - ndarray\n",
    "    Outputs: out: the activation values - ndarray\n",
    "    \"\"\"\n",
    "\n",
    "    # compute the output of the softmax \n",
    "    \n",
    "    u = np.exp( z - np.amax(z, axis=0) )\n",
    "    \n",
    "    return u / u.sum(axis=0)"
   ]
  },
  {
   "cell_type": "code",
   "execution_count": 125,
   "metadata": {
    "collapsed": true
   },
   "outputs": [],
   "source": [
    "def computeLoss(W, B, X, labels, act_func):\n",
    "    \"\"\"\n",
    "    Compute the loss value of the current network on the full batch\n",
    "    Inputs: act_func: the activation function - function\n",
    "          : W: the weights - list of ndarray\n",
    "          : B: the bias - list of ndarray\n",
    "          : X: the batch - ndarray\n",
    "          : labels: the labels corresponding to the batch\n",
    "    Outputs: loss: the negative log-likelihood - float\n",
    "           : accuracy: the ratio of examples that are well-classified - float\n",
    "    \"\"\" \n",
    "    \n",
    "    ### Forward propagation\n",
    "    Y, Yp = forward(act_func, W, B, X)\n",
    " \n",
    "    ### Compute the softmax and the prediction\n",
    "    \n",
    "    out = softmax(Y[-1])\n",
    "    pred = np.argmax(out,axis=0)\n",
    "    \n",
    "    loss = - np.log(out[labels.tolist(), np.arange(len(labels))]).sum() / len(labels)\n",
    "\n",
    "    accuracy = (labels == pred).sum() / float(len(labels))\n",
    "    \n",
    "    return loss, accuracy"
   ]
  },
  {
   "cell_type": "code",
   "execution_count": 126,
   "metadata": {
    "collapsed": true
   },
   "outputs": [],
   "source": [
    "def getMiniBatch(i, batch_size, train_set, one_hot):\n",
    "    \"\"\"\n",
    "        Return a minibatch from the training set and the associated labels\n",
    "        :param i: the identifier of the minibatch\n",
    "        :param batch_size: the number of training examples\n",
    "        :param train_set: the training set\n",
    "        :param one_hot: the one-hot representation of the labels\n",
    "        :type i: int\n",
    "        :type batch_size: int\n",
    "        :type train_set: ndarray\n",
    "        :type ont_hot: ndarray\n",
    "        :return: the minibatch of examples\n",
    "        :return: the minibatch of labels\n",
    "        :return: the number of examples in the minibatch\n",
    "        :rtype: ndarray\n",
    "        :rtype: ndarray\n",
    "        :rtype: int\n",
    "    \"\"\"\n",
    "    \n",
    "    n_training = train_set[0].shape[0]\n",
    "    idx_begin = i * batch_size\n",
    "    idx_end = (i+1) * batch_size\n",
    "    mini_batch_size = batch_size\n",
    "\n",
    "    batch = train_set[0][idx_begin:idx_end]\n",
    "    one_hot_batch = one_hot[:, idx_begin:idx_end]\n",
    "\n",
    "    return np.asfortranarray(batch), one_hot_batch, mini_batch_size"
   ]
  },
  {
   "cell_type": "code",
   "execution_count": 127,
   "metadata": {
    "collapsed": true
   },
   "outputs": [],
   "source": [
    "def adapt_lr(previous_loss, current_loss, eta):\n",
    "    \n",
    "    if current_loss > previous_loss:\n",
    "        eta *= 0.8\n",
    "        \n",
    "    else: \n",
    "        eta *= 1.2\n",
    "    \n",
    "    return eta"
   ]
  },
  {
   "cell_type": "code",
   "execution_count": 128,
   "metadata": {
    "collapsed": true
   },
   "outputs": [],
   "source": [
    "W0 = copy.deepcopy(W)  #a way to keep the initial W0 to ensure same conditions to compare experiements"
   ]
  },
  {
   "cell_type": "code",
   "execution_count": 129,
   "metadata": {
    "collapsed": true
   },
   "outputs": [],
   "source": [
    "W = copy.deepcopy(W0) # to make sure we have the same initialisation matrix on each experiment"
   ]
  },
  {
   "cell_type": "code",
   "execution_count": 130,
   "metadata": {
    "collapsed": false
   },
   "outputs": [
    {
     "name": "stdout",
     "output_type": "stream",
     "text": [
      "epoch time(s) train_loss train_accuracy valid_loss valid_accuracy eta\n",
      "0 14.265014 0.248748331755 0.92886 0.235251978382 0.9352 0.01\n",
      "1 27.94303 0.214881002524 0.93844 0.209943277249 0.9419 0.01\n",
      "2 42.092252 0.193482249355 0.94448 0.195128050039 0.9466 0.012\n",
      "3 61.250493 0.176785336308 0.94856 0.185600781269 0.9497 0.0144\n",
      "4 81.063254 0.163072854538 0.9527 0.179951095704 0.9515 0.01728\n",
      "5 95.745504 0.151238372594 0.9565 0.177516656953 0.9538 0.020736\n",
      "6 109.844612 0.140809942316 0.95946 0.177520051489 0.9554 0.0248832\n",
      "7 124.058114 0.131769875907 0.96178 0.179173810394 0.9554 0.02985984\n",
      "8 138.079669 0.123933159944 0.96404 0.182734910109 0.9557 0.035831808\n",
      "9 155.953959 0.117491322474 0.9661 0.187638518653 0.9547 0.0429981696\n",
      "10 169.747596 0.111707440164 0.96788 0.194900768171 0.9555 0.05159780352\n",
      "11 183.52413 0.107230440734 0.96924 0.201926532079 0.9546 0.061917364224\n",
      "12 197.268675 0.104499981279 0.96972 0.211758333814 0.9556 0.0743008370688\n",
      "13 211.146095 0.105509433667 0.96896 0.225306477808 0.9545 0.0891610044826\n",
      "14 224.990553 0.110113483825 0.96864 0.244937664497 0.9539 0.106993205379\n",
      "15 238.786326 0.0997432877856 0.97138 0.247561607701 0.9554 0.0855945643033\n",
      "16 252.700807 0.0925268038572 0.97326 0.252699990991 0.956 0.0684756514426\n",
      "17 266.447701 0.0864562116387 0.97562 0.257413920605 0.9562 0.0547805211541\n",
      "18 280.239677 0.0831404915073 0.97686 0.261438063731 0.9561 0.0438244169233\n",
      "19 294.019033 0.0809438113043 0.97722 0.264742178493 0.9567 0.0350595335386\n"
     ]
    }
   ],
   "source": [
    "# Data structures for plotting\n",
    "g_i = []\n",
    "g_train_loss=[]\n",
    "g_train_acc=[]\n",
    "g_valid_loss=[]\n",
    "g_valid_acc=[]\n",
    "\n",
    "#############################\n",
    "### Auxiliary variables\n",
    "#############################\n",
    "cumul_time = 0.\n",
    "n_batch = int(math.ceil(float(n_training)/batch_size))\n",
    "regularizer = 'L1'\n",
    "lamda = 1e-4\n",
    "adaptive_lr = True\n",
    "epsilon = 1e-4\n",
    "\n",
    "# Convert the labels to one-hot vector\n",
    "one_hot = np.zeros((n_label,n_training))\n",
    "one_hot[train_set[1],np.arange(n_training)]=1.\n",
    "\n",
    "#printDescription(\"Bprop\", eta, nn_arch, act_func_name, batch_size, nb_params)\n",
    "print(\"epoch time(s) train_loss train_accuracy valid_loss valid_accuracy eta\") \n",
    "\n",
    "#############################\n",
    "### Learning process\n",
    "#############################\n",
    "\n",
    "\n",
    "for i in range(n_epoch):\n",
    "    \n",
    "    for j in range(n_batch):\n",
    "     \n",
    "        ### Mini-batch creation\n",
    "        batch, one_hot_batch, mini_batch_size = getMiniBatch(j, batch_size, train_set, one_hot)\n",
    "\n",
    "        prev_time = time.clock()\n",
    "\n",
    "        ### Forward propagation\n",
    "        Y, Yp = forward(act_func, W, B, batch)\n",
    "            \n",
    "        ### Compute the softmax\n",
    "        out = softmax(Y[-1])\n",
    "        \n",
    "        ### Compute the gradient at the top layer\n",
    "        derror = out - one_hot_batch\n",
    "\n",
    "        ### Backpropagation\n",
    "        gradB  = backward(derror, W, Yp)\n",
    "        \n",
    "        W, B = update(eta, batch_size, W, B, gradB, Y, regularizer, lamda, dW_cum, dB_cum, epsilon)\n",
    "\n",
    "        curr_time = time.clock()\n",
    "        cumul_time += curr_time - prev_time\n",
    "\n",
    "    ### Training accuracy\n",
    "    train_loss, train_accuracy = computeLoss(W, B, train_set[0], train_set[1], act_func) \n",
    "\n",
    "    ### Valid accuracy\n",
    "    valid_loss, valid_accuracy = computeLoss(W, B, valid_set[0], valid_set[1], act_func) \n",
    "\n",
    "    g_i = np.append(g_i, i)\n",
    "    g_train_loss = np.append(g_train_loss, train_loss)\n",
    "    g_train_acc = np.append(g_train_acc, train_accuracy)\n",
    "    g_valid_loss = np.append(g_valid_loss, valid_loss)\n",
    "    g_valid_acc = np.append(g_valid_acc, valid_accuracy)\n",
    "    result_line = str(i) + \" \" + str(cumul_time) + \" \" + str(train_loss) + \" \" + str(train_accuracy) + \" \" + str(valid_loss) + \" \" + str(valid_accuracy) + \" \" + str(eta)\n",
    "\n",
    "    print(result_line)\n",
    "\n",
    "    \n",
    "    # adapting the LR\n",
    "    if adaptive_lr == True:\n",
    "        if i == 0:\n",
    "            previous_loss = valid_loss\n",
    "        else:\n",
    "            eta = adapt_lr(previous_loss, valid_loss, eta)\n",
    "    \n",
    "    sys.stdout.flush() # Force emptying the stdout buffer"
   ]
  },
  {
   "cell_type": "code",
   "execution_count": 131,
   "metadata": {
    "collapsed": false
   },
   "outputs": [
    {
     "data": {
      "text/plain": [
       "<matplotlib.legend.Legend at 0x7fa70ee71b50>"
      ]
     },
     "execution_count": 131,
     "metadata": {},
     "output_type": "execute_result"
    },
    {
     "data": {
      "image/png": "[encoded data removed]",
      "text/plain": [
       "<matplotlib.figure.Figure at 0x7fa70ef7b550>"
      ]
     },
     "metadata": {},
     "output_type": "display_data"
    }
   ],
   "source": [
    "plt.plot(g_i,g_train_loss,label='train_loss')\n",
    "plt.plot(g_i,g_valid_loss,label='valid_loss')\n",
    "plt.xlabel(\"epoch\")\n",
    "plt.ylabel(\"Negative log-likelihood\")\n",
    "plt.legend()"
   ]
  },
  {
   "cell_type": "code",
   "execution_count": 132,
   "metadata": {
    "collapsed": false
   },
   "outputs": [
    {
     "data": {
      "text/plain": [
       "<matplotlib.legend.Legend at 0x7fa70edd9fd0>"
      ]
     },
     "execution_count": 132,
     "metadata": {},
     "output_type": "execute_result"
    },
    {
     "data": {
      "image/png": "[encoded data removed]",
      "text/plain": [
       "<matplotlib.figure.Figure at 0x7fa70efa4d90>"
      ]
     },
     "metadata": {},
     "output_type": "display_data"
    }
   ],
   "source": [
    "plt.plot(g_i,1.0-g_train_acc,label='train_acc')\n",
    "plt.plot(g_i,1.0-g_valid_acc,label='valid_acc')\n",
    "plt.xlabel(\"epoch\")\n",
    "plt.ylabel(\"Classification error\")\n",
    "plt.ylim([0.,0.2])\n",
    "plt.legend()"
   ]
  },
  {
   "cell_type": "code",
   "execution_count": null,
   "metadata": {
    "collapsed": true
   },
   "outputs": [],
   "source": []
  }
 ],
 "metadata": {
  "kernelspec": {
   "display_name": "Python 2",
   "language": "python",
   "name": "python2"
  },
  "language_info": {
   "codemirror_mode": {
    "name": "ipython",
    "version": 2
   },
   "file_extension": ".py",
   "mimetype": "text/x-python",
   "name": "python",
   "nbconvert_exporter": "python",
   "pygments_lexer": "ipython2",
   "version": "2.7.13"
  }
 },
 "nbformat": 4,
 "nbformat_minor": 1
}
